{
 "cells": [
  {
   "cell_type": "code",
   "execution_count": 33,
   "metadata": {
    "colab": {
     "base_uri": "https://localhost:8080/"
    },
    "id": "lhcKs49yOJRL",
    "outputId": "a85ac68c-eb0b-4fb3-969c-d83d59c4e86b"
   },
   "outputs": [],
   "source": [
    "import pandas as pd\n",
    "import numpy as np\n",
    "import sklearn as sk\n",
    "import matplotlib.pyplot as plt\n"
   ]
  },
  {
   "cell_type": "code",
   "execution_count": 86,
   "metadata": {
    "id": "e2UBFLR5Ooaq"
   },
   "outputs": [
    {
     "data": {
      "text/plain": [
       "Index(['Unnamed: 0', 'year', 'stock', 'length', 'SSTarc_summer',\n",
       "       'SSTarc_winter', 'PDO', 'WA_Pinks', 'ALPI', 'Pinks', 'NPGO',\n",
       "       'MEI_summer', 'MEI_winter', 'BI'],\n",
       "      dtype='object')"
      ]
     },
     "execution_count": 86,
     "metadata": {},
     "output_type": "execute_result"
    }
   ],
   "source": [
    "# load data\n",
    "data = pd.read_csv(\n",
    "    \"~/github/Chinook-Salmon-Research-Project/data/increments_NCC_fall_age_1_2.csv\")\n",
    "data.columns"
   ]
  },
  {
   "cell_type": "code",
   "execution_count": 87,
   "metadata": {
    "id": "RFKpUszqQPg9"
   },
   "outputs": [
    {
     "data": {
      "text/html": [
       "<div>\n",
       "<style scoped>\n",
       "    .dataframe tbody tr th:only-of-type {\n",
       "        vertical-align: middle;\n",
       "    }\n",
       "\n",
       "    .dataframe tbody tr th {\n",
       "        vertical-align: top;\n",
       "    }\n",
       "\n",
       "    .dataframe thead th {\n",
       "        text-align: right;\n",
       "    }\n",
       "</style>\n",
       "<table border=\"1\" class=\"dataframe\">\n",
       "  <thead>\n",
       "    <tr style=\"text-align: right;\">\n",
       "      <th></th>\n",
       "      <th>SSTarc_summer</th>\n",
       "      <th>SSTarc_winter</th>\n",
       "      <th>PDO</th>\n",
       "      <th>WA_Pinks</th>\n",
       "      <th>ALPI</th>\n",
       "      <th>Pinks</th>\n",
       "      <th>NPGO</th>\n",
       "      <th>MEI_summer</th>\n",
       "      <th>MEI_winter</th>\n",
       "      <th>BI</th>\n",
       "    </tr>\n",
       "  </thead>\n",
       "  <tbody>\n",
       "    <tr>\n",
       "      <th>0</th>\n",
       "      <td>0.344474</td>\n",
       "      <td>0.246118</td>\n",
       "      <td>1.495554</td>\n",
       "      <td>-0.799018</td>\n",
       "      <td>2.151431</td>\n",
       "      <td>-1.031130</td>\n",
       "      <td>-0.732847</td>\n",
       "      <td>0.973333</td>\n",
       "      <td>-0.350000</td>\n",
       "      <td>-1.414170</td>\n",
       "    </tr>\n",
       "    <tr>\n",
       "      <th>1</th>\n",
       "      <td>0.344474</td>\n",
       "      <td>0.246118</td>\n",
       "      <td>1.495554</td>\n",
       "      <td>-0.799018</td>\n",
       "      <td>2.151431</td>\n",
       "      <td>-1.031130</td>\n",
       "      <td>-0.732847</td>\n",
       "      <td>0.973333</td>\n",
       "      <td>-0.350000</td>\n",
       "      <td>-1.414170</td>\n",
       "    </tr>\n",
       "    <tr>\n",
       "      <th>2</th>\n",
       "      <td>0.344474</td>\n",
       "      <td>0.246118</td>\n",
       "      <td>1.495554</td>\n",
       "      <td>-0.799018</td>\n",
       "      <td>2.151431</td>\n",
       "      <td>-1.031130</td>\n",
       "      <td>-0.732847</td>\n",
       "      <td>0.973333</td>\n",
       "      <td>-0.350000</td>\n",
       "      <td>-1.414170</td>\n",
       "    </tr>\n",
       "    <tr>\n",
       "      <th>3</th>\n",
       "      <td>-0.181002</td>\n",
       "      <td>0.458551</td>\n",
       "      <td>1.643988</td>\n",
       "      <td>0.193823</td>\n",
       "      <td>1.518919</td>\n",
       "      <td>-0.471888</td>\n",
       "      <td>0.429175</td>\n",
       "      <td>1.543333</td>\n",
       "      <td>1.176667</td>\n",
       "      <td>-0.763411</td>\n",
       "    </tr>\n",
       "    <tr>\n",
       "      <th>4</th>\n",
       "      <td>-0.181002</td>\n",
       "      <td>0.458551</td>\n",
       "      <td>1.643988</td>\n",
       "      <td>0.193823</td>\n",
       "      <td>1.518919</td>\n",
       "      <td>-0.471888</td>\n",
       "      <td>0.429175</td>\n",
       "      <td>1.543333</td>\n",
       "      <td>1.176667</td>\n",
       "      <td>-0.763411</td>\n",
       "    </tr>\n",
       "    <tr>\n",
       "      <th>...</th>\n",
       "      <td>...</td>\n",
       "      <td>...</td>\n",
       "      <td>...</td>\n",
       "      <td>...</td>\n",
       "      <td>...</td>\n",
       "      <td>...</td>\n",
       "      <td>...</td>\n",
       "      <td>...</td>\n",
       "      <td>...</td>\n",
       "      <td>...</td>\n",
       "    </tr>\n",
       "    <tr>\n",
       "      <th>77</th>\n",
       "      <td>2.243629</td>\n",
       "      <td>0.393421</td>\n",
       "      <td>0.972684</td>\n",
       "      <td>-0.799018</td>\n",
       "      <td>-0.158439</td>\n",
       "      <td>0.785994</td>\n",
       "      <td>-0.249174</td>\n",
       "      <td>0.110000</td>\n",
       "      <td>-0.340000</td>\n",
       "      <td>-0.848293</td>\n",
       "    </tr>\n",
       "    <tr>\n",
       "      <th>78</th>\n",
       "      <td>2.788084</td>\n",
       "      <td>1.365662</td>\n",
       "      <td>1.389256</td>\n",
       "      <td>0.827555</td>\n",
       "      <td>0.205856</td>\n",
       "      <td>2.192808</td>\n",
       "      <td>-1.394541</td>\n",
       "      <td>1.953333</td>\n",
       "      <td>0.136667</td>\n",
       "      <td>-0.310709</td>\n",
       "    </tr>\n",
       "    <tr>\n",
       "      <th>79</th>\n",
       "      <td>2.788084</td>\n",
       "      <td>1.365662</td>\n",
       "      <td>1.389256</td>\n",
       "      <td>0.827555</td>\n",
       "      <td>0.205856</td>\n",
       "      <td>2.192808</td>\n",
       "      <td>-1.394541</td>\n",
       "      <td>1.953333</td>\n",
       "      <td>0.136667</td>\n",
       "      <td>-0.310709</td>\n",
       "    </tr>\n",
       "    <tr>\n",
       "      <th>80</th>\n",
       "      <td>2.788084</td>\n",
       "      <td>1.365662</td>\n",
       "      <td>1.389256</td>\n",
       "      <td>0.827555</td>\n",
       "      <td>0.205856</td>\n",
       "      <td>2.192808</td>\n",
       "      <td>-1.394541</td>\n",
       "      <td>1.953333</td>\n",
       "      <td>0.136667</td>\n",
       "      <td>-0.310709</td>\n",
       "    </tr>\n",
       "    <tr>\n",
       "      <th>81</th>\n",
       "      <td>2.788084</td>\n",
       "      <td>1.365662</td>\n",
       "      <td>1.389256</td>\n",
       "      <td>0.827555</td>\n",
       "      <td>0.205856</td>\n",
       "      <td>2.192808</td>\n",
       "      <td>-1.394541</td>\n",
       "      <td>1.953333</td>\n",
       "      <td>0.136667</td>\n",
       "      <td>-0.310709</td>\n",
       "    </tr>\n",
       "  </tbody>\n",
       "</table>\n",
       "<p>82 rows × 10 columns</p>\n",
       "</div>"
      ],
      "text/plain": [
       "    SSTarc_summer  SSTarc_winter       PDO  WA_Pinks      ALPI     Pinks  \\\n",
       "0        0.344474       0.246118  1.495554 -0.799018  2.151431 -1.031130   \n",
       "1        0.344474       0.246118  1.495554 -0.799018  2.151431 -1.031130   \n",
       "2        0.344474       0.246118  1.495554 -0.799018  2.151431 -1.031130   \n",
       "3       -0.181002       0.458551  1.643988  0.193823  1.518919 -0.471888   \n",
       "4       -0.181002       0.458551  1.643988  0.193823  1.518919 -0.471888   \n",
       "..            ...            ...       ...       ...       ...       ...   \n",
       "77       2.243629       0.393421  0.972684 -0.799018 -0.158439  0.785994   \n",
       "78       2.788084       1.365662  1.389256  0.827555  0.205856  2.192808   \n",
       "79       2.788084       1.365662  1.389256  0.827555  0.205856  2.192808   \n",
       "80       2.788084       1.365662  1.389256  0.827555  0.205856  2.192808   \n",
       "81       2.788084       1.365662  1.389256  0.827555  0.205856  2.192808   \n",
       "\n",
       "        NPGO  MEI_summer  MEI_winter        BI  \n",
       "0  -0.732847    0.973333   -0.350000 -1.414170  \n",
       "1  -0.732847    0.973333   -0.350000 -1.414170  \n",
       "2  -0.732847    0.973333   -0.350000 -1.414170  \n",
       "3   0.429175    1.543333    1.176667 -0.763411  \n",
       "4   0.429175    1.543333    1.176667 -0.763411  \n",
       "..       ...         ...         ...       ...  \n",
       "77 -0.249174    0.110000   -0.340000 -0.848293  \n",
       "78 -1.394541    1.953333    0.136667 -0.310709  \n",
       "79 -1.394541    1.953333    0.136667 -0.310709  \n",
       "80 -1.394541    1.953333    0.136667 -0.310709  \n",
       "81 -1.394541    1.953333    0.136667 -0.310709  \n",
       "\n",
       "[82 rows x 10 columns]"
      ]
     },
     "execution_count": 87,
     "metadata": {},
     "output_type": "execute_result"
    }
   ],
   "source": [
    "\n",
    "data_x = data.drop(columns=['Unnamed: 0', 'year','length','stock'], axis=1)\n",
    "data_y = data[['length']]\n",
    "data_x"
   ]
  },
  {
   "cell_type": "code",
   "execution_count": 88,
   "metadata": {
    "colab": {
     "base_uri": "https://localhost:8080/"
    },
    "id": "6Kb0SwkiRr57",
    "outputId": "b180acc3-ae92-4d35-dd44-972bef98e89a"
   },
   "outputs": [
    {
     "name": "stderr",
     "output_type": "stream",
     "text": [
      "<ipython-input-88-a02d879ee352>:5: DataConversionWarning: A column-vector y was passed when a 1d array was expected. Please change the shape of y to (n_samples,), for example using ravel().\n",
      "  mod1 = rf.fit(data_x,data_y)\n"
     ]
    }
   ],
   "source": [
    "# run random forest on all the data \n",
    "from sklearn.ensemble import RandomForestRegressor\n",
    "#,max_depth = 2, max_features=3\n",
    "rf = RandomForestRegressor(n_estimators = 500, random_state = 42, max_depth=2)\n",
    "mod1 = rf.fit(data_x,data_y)"
   ]
  },
  {
   "cell_type": "code",
   "execution_count": 89,
   "metadata": {
    "colab": {
     "base_uri": "https://localhost:8080/",
     "height": 336
    },
    "id": "D6DoSx7XSXqa",
    "outputId": "5de5b8a9-16b2-4980-f025-6d6f2a3066c9"
   },
   "outputs": [
    {
     "data": {
      "image/png": "[encoded data removed]",
      "text/plain": [
       "<Figure size 432x288 with 1 Axes>"
      ]
     },
     "metadata": {
      "needs_background": "light"
     },
     "output_type": "display_data"
    }
   ],
   "source": [
    "# get quantities from model\n",
    "fig = plt.figure()\n",
    "ax = fig.add_axes([0,0,1,1])\n",
    "ax.barh(data_x.columns,mod1.feature_importances_)\n",
    "plt.show()"
   ]
  },
  {
   "cell_type": "code",
   "execution_count": 90,
   "metadata": {
    "colab": {
     "base_uri": "https://localhost:8080/",
     "height": 288
    },
    "id": "RwUDN-f9TUnc",
    "outputId": "aaab0ecc-6194-4ba1-dc93-ee2520ebc592"
   },
   "outputs": [
    {
     "data": {
      "image/png": "[encoded data removed]",
      "text/plain": [
       "<Figure size 432x288 with 11 Axes>"
      ]
     },
     "metadata": {
      "needs_background": "light"
     },
     "output_type": "display_data"
    }
   ],
   "source": [
    "# code for partial effect plots is from https://scikit-learn.org/stable/auto_examples/inspection/plot_partial_dependence.html\n",
    "from sklearn.inspection import partial_dependence\n",
    "from sklearn.inspection import plot_partial_dependence\n",
    "\n",
    "display = plot_partial_dependence(\n",
    "       mod1, data_x, data_x.columns[0:10], n_jobs = 3, grid_resolution = 20, \n",
    ")\n",
    "\n",
    "display.figure_.subplots_adjust(hspace=0.7)"
   ]
  },
  {
   "cell_type": "code",
   "execution_count": 10,
   "metadata": {
    "colab": {
     "base_uri": "https://localhost:8080/",
     "height": 608
    },
    "id": "evLnRgR5ZqmQ",
    "outputId": "57ed79f7-318e-43cd-df0d-d68842830a54"
   },
   "outputs": [
    {
     "name": "stderr",
     "output_type": "stream",
     "text": [
      "<ipython-input-10-c3d0b0236183>:12: DataConversionWarning: A column-vector y was passed when a 1d array was expected. Please change the shape of y to (n_samples,), for example using ravel().\n",
      "  mod_2 = rf.fit(train_x,train_y)\n",
      "<ipython-input-10-c3d0b0236183>:12: DataConversionWarning: A column-vector y was passed when a 1d array was expected. Please change the shape of y to (n_samples,), for example using ravel().\n",
      "  mod_2 = rf.fit(train_x,train_y)\n",
      "<ipython-input-10-c3d0b0236183>:12: DataConversionWarning: A column-vector y was passed when a 1d array was expected. Please change the shape of y to (n_samples,), for example using ravel().\n",
      "  mod_2 = rf.fit(train_x,train_y)\n",
      "<ipython-input-10-c3d0b0236183>:12: DataConversionWarning: A column-vector y was passed when a 1d array was expected. Please change the shape of y to (n_samples,), for example using ravel().\n",
      "  mod_2 = rf.fit(train_x,train_y)\n",
      "<ipython-input-10-c3d0b0236183>:12: DataConversionWarning: A column-vector y was passed when a 1d array was expected. Please change the shape of y to (n_samples,), for example using ravel().\n",
      "  mod_2 = rf.fit(train_x,train_y)\n",
      "<ipython-input-10-c3d0b0236183>:12: DataConversionWarning: A column-vector y was passed when a 1d array was expected. Please change the shape of y to (n_samples,), for example using ravel().\n",
      "  mod_2 = rf.fit(train_x,train_y)\n",
      "<ipython-input-10-c3d0b0236183>:12: DataConversionWarning: A column-vector y was passed when a 1d array was expected. Please change the shape of y to (n_samples,), for example using ravel().\n",
      "  mod_2 = rf.fit(train_x,train_y)\n",
      "<ipython-input-10-c3d0b0236183>:12: DataConversionWarning: A column-vector y was passed when a 1d array was expected. Please change the shape of y to (n_samples,), for example using ravel().\n",
      "  mod_2 = rf.fit(train_x,train_y)\n",
      "<ipython-input-10-c3d0b0236183>:12: DataConversionWarning: A column-vector y was passed when a 1d array was expected. Please change the shape of y to (n_samples,), for example using ravel().\n",
      "  mod_2 = rf.fit(train_x,train_y)\n"
     ]
    },
    {
     "data": {
      "text/plain": [
       "[<matplotlib.lines.Line2D at 0x7f85ef123430>]"
      ]
     },
     "execution_count": 10,
     "metadata": {},
     "output_type": "execute_result"
    },
    {
     "data": {
      "image/png": "[encoded data removed]",
      "text/plain": [
       "<Figure size 432x288 with 1 Axes>"
      ]
     },
     "metadata": {
      "needs_background": "light"
     },
     "output_type": "display_data"
    }
   ],
   "source": [
    "# run leave future out CV\n",
    "score = []\n",
    "means = []\n",
    "r2_ls = []\n",
    "for i in range(2005,2014):\n",
    "  train = data[data.year < i]\n",
    "  test = data[data.year > (i-1)]\n",
    "  test_y = test[['length']]\n",
    "  test_x = test.drop(columns=['Unnamed: 0', 'year','length','stock'], axis=1)\n",
    "  train_y = train[['length']]\n",
    "  train_x = train.drop(columns=['Unnamed: 0', 'year','length','stock'], axis=1)\n",
    "  mod_2 = rf.fit(train_x,train_y)\n",
    "  val = ((test_y.to_numpy().transpose()[0] - mod_2.predict(test_x))**2).sum()\n",
    "  val_mean = ((test_y.to_numpy().transpose()[0] - train_y.to_numpy().transpose()[0].sum()/len(train_y.to_numpy().transpose()[0]))**2).sum()\n",
    "  score.append(val)\n",
    "  means.append(val_mean)\n",
    "  val = (abs(test_y.to_numpy().transpose()[0] - mod_2.predict(test_x))).sum()\n",
    "  val_mean = (abs(test_y.to_numpy().transpose()[0] - train_y.to_numpy().transpose()[0].sum()/len(train_y.to_numpy().transpose()[0]))).sum()\n",
    "  r2 = (val_mean - val)/val_mean\n",
    "  r2_ls.append(r2)\n",
    "\n",
    "\n",
    "\n",
    "plt.plot(score)\n",
    "plt.plot(means)"
   ]
  },
  {
   "cell_type": "code",
   "execution_count": 11,
   "metadata": {
    "colab": {
     "base_uri": "https://localhost:8080/",
     "height": 285
    },
    "id": "iVexOBuTlf2L",
    "outputId": "03fe8dc4-c5b6-4662-e626-28d12f8920b2"
   },
   "outputs": [
    {
     "data": {
      "text/plain": [
       "[<matplotlib.lines.Line2D at 0x7f85ef168700>]"
      ]
     },
     "execution_count": 11,
     "metadata": {},
     "output_type": "execute_result"
    },
    {
     "data": {
      "image/png": "[encoded data removed]",
      "text/plain": [
       "<Figure size 432x288 with 1 Axes>"
      ]
     },
     "metadata": {
      "needs_background": "light"
     },
     "output_type": "display_data"
    }
   ],
   "source": [
    "plt.plot(r2_ls)"
   ]
  },
  {
   "cell_type": "code",
   "execution_count": null,
   "metadata": {},
   "outputs": [],
   "source": []
  }
 ],
 "metadata": {
  "colab": {
   "name": "leave_future_out_cv.ipynb",
   "provenance": []
  },
  "kernelspec": {
   "display_name": "Python 3",
   "language": "python",
   "name": "python3"
  },
  "language_info": {
   "codemirror_mode": {
    "name": "ipython",
    "version": 3
   },
   "file_extension": ".py",
   "mimetype": "text/x-python",
   "name": "python",
   "nbconvert_exporter": "python",
   "pygments_lexer": "ipython3",
   "version": "3.8.2"
  }
 },
 "nbformat": 4,
 "nbformat_minor": 4
}

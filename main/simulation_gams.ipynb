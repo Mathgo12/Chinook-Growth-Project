{
 "cells": [
  {
   "cell_type": "code",
   "execution_count": 2,
   "id": "a6a0a3b1-9655-4de1-8bdb-a88be56ebd18",
   "metadata": {},
   "outputs": [],
   "source": [
    "import os\n",
    "import numpy as np\n",
    "import pandas as pd\n",
    "import matplotlib.pyplot as plt\n",
    "from pygam import LinearGAM, s, f, te, l\n",
    "from sklearn.metrics import mean_squared_error\n",
    "import math"
   ]
  },
  {
   "cell_type": "code",
<<<<<<< HEAD
   "execution_count": 2,
=======
   "execution_count": 20,
   "id": "9aea9376-1f34-45e3-a1e3-f99997d1b01b",
   "metadata": {},
   "outputs": [
    {
     "data": {
      "text/plain": [
       "'/Users/johnbuckner/github/Chinook-Growth-Project/main'"
      ]
     },
     "execution_count": 20,
     "metadata": {},
     "output_type": "execute_result"
    }
   ],
   "source": [
    "os.getcwd()"
   ]
  },
  {
   "cell_type": "code",
   "execution_count": 25,
>>>>>>> 7238b1dc14dcba6564a5a5d0308860b324d1d897
   "id": "383dac86-ddb6-4a7b-bba7-4a359f154a5e",
   "metadata": {},
   "outputs": [],
   "source": [
    "#BASEPATH = 'C:\\SuryaMain\\Python Projects\\Chinook-Growth-Project'\n",
    "#BASEPATH = '/Users/johnbuckner/github/Chinook-Growth-Project'\n",
    "SIMULATION_BASEPATH = os.path.join(BASEPATH, \"simulate_nonlinear_data\")\n",
    "datasets = [name for name in os.listdir(SIMULATION_BASEPATH) if name[0:4] == 'data'] \n",
    "    \n",
    "def get_data(fname):\n",
    "    path = os.path.join(SIMULATION_BASEPATH, fname)\n",
    "    if os.path.exists(path):\n",
    "        X = pd.read_csv(os.path.join(path, 'X.csv'))\n",
    "        X.drop(X.columns[0], axis=1, inplace=True)\n",
    "        y = pd.read_csv(os.path.join(path, 'y.csv'))\n",
    "        y.drop(y.columns[0], axis=1, inplace=True)\n",
    "        return [X, y]\n",
    "    else: \n",
    "        print(\"Dataset does not exist\")\n",
    "        return [0,0]     \n",
    "\n",
    "class SimGAM(LinearGAM):\n",
    "    def __init__(self, X, y, **kwargs):\n",
    "        super().__init__(**kwargs)\n",
    "        self.X = X\n",
    "        self.y = y\n",
    "        self.trained = False\n",
    "        \n",
    "    def get_X(self):\n",
    "        return self.X\n",
    "    \n",
    "    def get_Y(self):\n",
    "        return self.y\n",
    "    \n",
    "    def fill_vals(self, num_vars, var_idx):\n",
    "        sample = np.zeros(shape=(100, num_vars))\n",
    "        rand_vals = sorted(np.random.normal(0,1,100))\n",
    "        for row_idx, row in enumerate(sample):\n",
    "            row[var_idx] = rand_vals[row_idx]\n",
    "        return sample    \n",
    "\n",
    "    def fit_gam(self):\n",
    "        lams = np.logspace(-5,5,20)*self.X.shape[1]\n",
    "        super().fit(self.X, self.y)\n",
    "        super().gridsearch(self.X, self.y, lam=lams)\n",
    "        self.trained = True\n",
    "        \n",
    "    def partial_dependences(self):\n",
    "        pds = {}\n",
    "        num_vars = X.shape[1]\n",
    "        for var in range(num_vars):  # Number of variables\n",
    "            sample = fill_vals(num_vars, var)\n",
    "            pdep = super().partial_dependence(term=var, X=sample)\n",
    "            pds[f'var{var}'] = pdep\n",
    "        return pds\n",
    "    \n",
    "    def calc_aic(self):\n",
    "        if self.trained == True:\n",
    "            num_params = len(super().coef_) + 1\n",
    "            aic = -2*super().loglikelihood(self.X,self.y) + 2*num_params\n",
    "            return aic\n",
    "        else: \n",
    "            print(\"Model Has Not Been Trained\")"
   ]
  },
  {
   "cell_type": "code",
   "execution_count": 8,
   "id": "813504a5-6682-4202-b487-78dba4190c34",
   "metadata": {},
   "outputs": [
    {
     "name": "stderr",
     "output_type": "stream",
     "text": [
      "100% (20 of 20) |########################| Elapsed Time: 0:00:05 Time:  0:00:05\n"
     ]
    }
   ],
   "source": [
    "dataset_1 = get_data('data_set_2')\n",
    "X = dataset_1[0]\n",
    "y = dataset_1[1]\n",
    "gam = SimGAMTest(X, y, n_splines=15)\n",
    "gam.fit_gam()\n"
   ]
  },
  {
   "cell_type": "code",
   "execution_count": 20,
   "id": "01d2fc7f-3662-4edc-a6d3-23a3541c202f",
   "metadata": {},
   "outputs": [
    {
     "name": "stdout",
     "output_type": "stream",
     "text": [
      "Variable: 10\n",
      "0.06948642398944217\n",
      "0.07117646273905232\n",
      "0.023813893949529895\n",
      "0.033929867144076635\n",
      "0.017013690062256486\n",
      "0.027136947015530013\n",
      "0.05891600801773428\n",
      "0.059940562439568516\n",
      "0.020094670204767538\n",
      "0.17558331837031094\n"
     ]
    }
   ],
   "source": [
    "pdeps = gam.partial_dependences()\n",
    "pd_variances = [np.var(pdeps[f'var{i}']) for i in range(0, gam.get_X().shape[1])]\n",
    "print(f'Variable: {np.argmax(pd_variances)+1}')\n",
    "for i in pd_variances:\n",
    "    print(i)"
   ]
  },
  {
   "cell_type": "code",
   "execution_count": 17,
   "id": "c269cc92-ff9b-472a-a465-8921ddee55b0",
   "metadata": {},
   "outputs": [],
   "source": [
    "def pdp_test(model, nrows, ncols):\n",
    "    fig, axs = plt.subplots(nrows=nrows, ncols=ncols)\n",
    "    titles = list(map(lambda x:f'V{x}', np.arange(1,len(X.columns)+1)))\n",
    "    num_vars = model.X.shape[1]\n",
    "    for i, ax in enumerate(axs):\n",
    "        sample = fill_vals(num_vars, i)\n",
    "        ax.plot(sample[:,i], model.model.partial_dependence(term=i, X=sample))\n",
    "        ax.plot(sample[:,i], model.model.partial_dependence(term=i, X=sample, width=.95)[1], c='r', ls='--')\n",
    "        ax.set_title(titles[i]);\n",
    "        ax.grid(True)\n",
    "        print(sample.shape)\n",
    "    plt.suptitle('Partial Dependence', size=16)\n",
    "    fig.tight_layout()\n",
    "    plt.show()\n",
    "    \n",
    "def pdp(model, nrows, ncols):\n",
    "    fig, axs = plt.subplots(nrows=nrows, ncols=ncols)\n",
    "    titles = list(map(lambda x:f'V{x}', np.arange(1,len(X.columns)+1)))\n",
    "    rand_data = []\n",
    "    for i, ax in enumerate(axs):\n",
    "        XX = model.model.generate_X_grid(term=i) \n",
    "        #sample = np.random.normal(0,1,100)\n",
    "        ax.plot(XX[:, i], model.model.partial_dependence(term=i, X=XX))\n",
    "        ax.plot(XX[:, i], model.model.partial_dependence(term=i, X=XX, width=.95)[1], c='r', ls='--')\n",
    "        ax.set_title(titles[i]);\n",
    "        ax.grid(True)\n",
    "        rand_data.append(XX)\n",
    "    plt.suptitle('Partial Dependence', size=16)\n",
    "    fig.tight_layout()\n",
    "    plt.show()\n",
    "    return rand_data\n"
   ]
  },
  {
   "cell_type": "code",
   "execution_count": null,
   "id": "dbe90ab1-759b-4fc7-b675-2998134aa461",
   "metadata": {},
   "outputs": [],
   "source": [
    "def main():\n",
    "    aic_dict = {}\n",
    "    for dataset in datasets[0:10]:\n",
    "        dst = get_data(dataset)\n",
    "        X = dst[0]\n",
    "        y = dst[1]\n",
    "        gam = SimGAM(X,y)\n",
    "        gam.train_lgam(n_splines=15)\n",
    "        aic = gam.calc_aic()\n",
    "        aic_dict[dataset] = aic\n",
    "    return aic_dict"
   ]
  },
  {
   "cell_type": "code",
   "execution_count": null,
   "id": "83f85498-cf69-444c-9bc7-85d0b9987983",
   "metadata": {},
   "outputs": [],
   "source": [
    "'''\n",
    "class SimGAM:\n",
    "    def __init__(self, X, y):\n",
    "        self.X = X\n",
    "        self.y = y\n",
    "        self.model = None\n",
    "        \n",
    "    def get_X(self):\n",
    "        return self.X\n",
    "    \n",
    "    def get_Y(self):\n",
    "        return self.y\n",
    "        \n",
    "    def train_lgam(self, **kwargs):\n",
    "        gam = LinearGAM(**kwargs).fit(self.X, self.y)\n",
    "        lams = []\n",
    "        if 'lam' in kwargs.keys():\n",
    "            lams = kwargs.get('lam')\n",
    "        else:\n",
    "            lams = np.logspace(-5,5,20)*len(self.X.columns)\n",
    "        gam.gridsearch(self.X, self.y, lam=lams)\n",
    "        self.model = gam\n",
    "        \n",
    "    def partial_dependences(self):\n",
    "        pds = {}\n",
    "        num_vars = X.shape[1]\n",
    "        for var in range(num_vars):  # Number of variables\n",
    "            sample = fill_vals(num_vars, var)\n",
    "            pdep = self.model.partial_dependence(term=var, X=sample)\n",
    "            pds[f'var{var}'] = pdep\n",
    "        return pds\n",
    "    \n",
    "    def calc_aic(self):\n",
    "        if self.model is not None:\n",
    "            num_params = len(self.model.coef_) + 1\n",
    "            aic = -2*self.model.loglikelihood(self.X,self.y) + 2*num_params\n",
    "            return aic\n",
    "        else: \n",
    "            print(\"Model Has Not Been Trained\")\n",
    "            return 0.0\n",
<<<<<<< HEAD
    "'''"
=======
    "\n",
    "def fill_vals(num_vars, var_idx):\n",
    "    sample = np.zeros(shape=(100, num_vars))\n",
    "    rand_vals = sorted(np.random.normal(0,1,100))\n",
    "    for row_idx, row in enumerate(sample):\n",
    "        row[var_idx] = rand_vals[row_idx]\n",
    "    return sample     "
   ]
  },
  {
   "cell_type": "code",
   "execution_count": 26,
   "id": "83f85498-cf69-444c-9bc7-85d0b9987983",
   "metadata": {},
   "outputs": [
    {
     "data": {
      "text/plain": [
       "(array([ 10.,  15.,  23.,  72., 130., 259., 379., 530., 622., 637., 660.,\n",
       "        557., 427., 303., 193., 101.,  45.,  26.,   8.,   3.]),\n",
       " array([-3.29862753, -2.95605805, -2.61348856, -2.27091907, -1.92834959,\n",
       "        -1.5857801 , -1.24321062, -0.90064113, -0.55807165, -0.21550216,\n",
       "         0.12706732,  0.46963681,  0.81220629,  1.15477578,  1.49734526,\n",
       "         1.83991475,  2.18248423,  2.52505372,  2.8676232 ,  3.21019269,\n",
       "         3.55276217]),\n",
       " <a list of 20 Patch objects>)"
      ]
     },
     "execution_count": 26,
     "metadata": {},
     "output_type": "execute_result"
    },
    {
     "data": {
      "image/png": "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\n",
      "text/plain": [
       "<Figure size 432x288 with 1 Axes>"
      ]
     },
     "metadata": {
      "needs_background": "light"
     },
     "output_type": "display_data"
    }
   ],
   "source": [
    "samples = np.random.normal(0, 1, 5000)\n",
    "plt.hist(samples, bins=20)"
   ]
  },
  {
   "cell_type": "code",
   "execution_count": 27,
   "id": "c885ae92-b065-49f3-80e9-c1d650286998",
   "metadata": {},
   "outputs": [],
   "source": [
    "class SimGAMTest(LinearGAM):\n",
    "    def __init__(self, X, y, **kwargs):\n",
    "        super().__init__(**kwargs)\n",
    "        self.X = X\n",
    "        self.y = y\n",
    "        self.trained = False\n",
    "        \n",
    "    def get_X(self):\n",
    "        return self.X\n",
    "    \n",
    "    def get_Y(self):\n",
    "        return self.y\n",
    "        \n",
    "    def fit(self):\n",
    "        lams = np.logspace(-5,5,20)*self.X.shape[1]\n",
    "        super().fit(self.X, self.y)\n",
    "        super().gridsearch(self.X, self.y, lam=lams)\n",
    "        self.trained = True\n",
    "        \n",
    "    def partial_dependences(self):\n",
    "        pds = {}\n",
    "        num_vars = X.shape[1]\n",
    "        for var in range(num_vars):  # Number of variables\n",
    "            sample = fill_vals(num_vars, var)\n",
    "            pdep = super().partial_dependence(term=var, X=sample)\n",
    "            pds[f'var{var}'] = pdep\n",
    "        return pds\n",
    "    \n",
    "    def calc_aic(self):\n",
    "        if self.trained == True:\n",
    "            num_params = len(super().coef_) + 1\n",
    "            aic = -2*super().loglikelihood(self.X,self.y) + 2*num_params\n",
    "            return aic\n",
    "        else: \n",
    "            print(\"Model Has Not Been Trained\")"
   ]
  },
  {
   "cell_type": "code",
   "execution_count": 28,
   "id": "813504a5-6682-4202-b487-78dba4190c34",
   "metadata": {},
   "outputs": [
    {
     "name": "stderr",
     "output_type": "stream",
     "text": [
      "  0% (0 of 20) |                         | Elapsed Time: 0:00:00 ETA:  --:--:--"
     ]
    },
    {
     "ename": "TypeError",
     "evalue": "fit() takes 1 positional argument but 4 were given",
     "output_type": "error",
     "traceback": [
      "\u001b[0;31m---------------------------------------------------------------------------\u001b[0m",
      "\u001b[0;31mTypeError\u001b[0m                                 Traceback (most recent call last)",
      "\u001b[0;32m<ipython-input-28-a030d2dc542f>\u001b[0m in \u001b[0;36m<module>\u001b[0;34m\u001b[0m\n\u001b[1;32m      3\u001b[0m \u001b[0my\u001b[0m \u001b[0;34m=\u001b[0m \u001b[0mdataset_1\u001b[0m\u001b[0;34m[\u001b[0m\u001b[0;36m1\u001b[0m\u001b[0;34m]\u001b[0m\u001b[0;34m\u001b[0m\u001b[0;34m\u001b[0m\u001b[0m\n\u001b[1;32m      4\u001b[0m \u001b[0mgam\u001b[0m \u001b[0;34m=\u001b[0m \u001b[0mSimGAMTest\u001b[0m\u001b[0;34m(\u001b[0m\u001b[0mX\u001b[0m\u001b[0;34m,\u001b[0m \u001b[0my\u001b[0m\u001b[0;34m,\u001b[0m \u001b[0mn_splines\u001b[0m\u001b[0;34m=\u001b[0m\u001b[0;36m15\u001b[0m\u001b[0;34m)\u001b[0m\u001b[0;34m\u001b[0m\u001b[0;34m\u001b[0m\u001b[0m\n\u001b[0;32m----> 5\u001b[0;31m \u001b[0mgam\u001b[0m\u001b[0;34m.\u001b[0m\u001b[0mfit\u001b[0m\u001b[0;34m(\u001b[0m\u001b[0;34m)\u001b[0m\u001b[0;34m\u001b[0m\u001b[0;34m\u001b[0m\u001b[0m\n\u001b[0m\u001b[1;32m      6\u001b[0m \u001b[0mpdeps\u001b[0m \u001b[0;34m=\u001b[0m \u001b[0mgam\u001b[0m\u001b[0;34m.\u001b[0m\u001b[0mpartial_dependences\u001b[0m\u001b[0;34m(\u001b[0m\u001b[0;34m)\u001b[0m\u001b[0;34m\u001b[0m\u001b[0;34m\u001b[0m\u001b[0m\n",
      "\u001b[0;32m<ipython-input-27-d9d95c24c74e>\u001b[0m in \u001b[0;36mfit\u001b[0;34m(self)\u001b[0m\n\u001b[1;32m     15\u001b[0m         \u001b[0mlams\u001b[0m \u001b[0;34m=\u001b[0m \u001b[0mnp\u001b[0m\u001b[0;34m.\u001b[0m\u001b[0mlogspace\u001b[0m\u001b[0;34m(\u001b[0m\u001b[0;34m-\u001b[0m\u001b[0;36m5\u001b[0m\u001b[0;34m,\u001b[0m\u001b[0;36m5\u001b[0m\u001b[0;34m,\u001b[0m\u001b[0;36m20\u001b[0m\u001b[0;34m)\u001b[0m\u001b[0;34m*\u001b[0m\u001b[0mself\u001b[0m\u001b[0;34m.\u001b[0m\u001b[0mX\u001b[0m\u001b[0;34m.\u001b[0m\u001b[0mshape\u001b[0m\u001b[0;34m[\u001b[0m\u001b[0;36m1\u001b[0m\u001b[0;34m]\u001b[0m\u001b[0;34m\u001b[0m\u001b[0;34m\u001b[0m\u001b[0m\n\u001b[1;32m     16\u001b[0m         \u001b[0msuper\u001b[0m\u001b[0;34m(\u001b[0m\u001b[0;34m)\u001b[0m\u001b[0;34m.\u001b[0m\u001b[0mfit\u001b[0m\u001b[0;34m(\u001b[0m\u001b[0mself\u001b[0m\u001b[0;34m.\u001b[0m\u001b[0mX\u001b[0m\u001b[0;34m,\u001b[0m \u001b[0mself\u001b[0m\u001b[0;34m.\u001b[0m\u001b[0my\u001b[0m\u001b[0;34m)\u001b[0m\u001b[0;34m\u001b[0m\u001b[0;34m\u001b[0m\u001b[0m\n\u001b[0;32m---> 17\u001b[0;31m         \u001b[0msuper\u001b[0m\u001b[0;34m(\u001b[0m\u001b[0;34m)\u001b[0m\u001b[0;34m.\u001b[0m\u001b[0mgridsearch\u001b[0m\u001b[0;34m(\u001b[0m\u001b[0mself\u001b[0m\u001b[0;34m.\u001b[0m\u001b[0mX\u001b[0m\u001b[0;34m,\u001b[0m \u001b[0mself\u001b[0m\u001b[0;34m.\u001b[0m\u001b[0my\u001b[0m\u001b[0;34m,\u001b[0m \u001b[0mlam\u001b[0m\u001b[0;34m=\u001b[0m\u001b[0mlams\u001b[0m\u001b[0;34m)\u001b[0m\u001b[0;34m\u001b[0m\u001b[0;34m\u001b[0m\u001b[0m\n\u001b[0m\u001b[1;32m     18\u001b[0m         \u001b[0mself\u001b[0m\u001b[0;34m.\u001b[0m\u001b[0mtrained\u001b[0m \u001b[0;34m=\u001b[0m \u001b[0;32mTrue\u001b[0m\u001b[0;34m\u001b[0m\u001b[0;34m\u001b[0m\u001b[0m\n\u001b[1;32m     19\u001b[0m \u001b[0;34m\u001b[0m\u001b[0m\n",
      "\u001b[0;32m/Library/Frameworks/Python.framework/Versions/3.8/lib/python3.8/site-packages/pygam/pygam.py\u001b[0m in \u001b[0;36mgridsearch\u001b[0;34m(self, X, y, weights, return_scores, keep_best, objective, progress, **param_grids)\u001b[0m\n\u001b[1;32m   1892\u001b[0m                     \u001b[0mcoef\u001b[0m \u001b[0;34m=\u001b[0m \u001b[0mmodels\u001b[0m\u001b[0;34m[\u001b[0m\u001b[0;34m-\u001b[0m\u001b[0;36m1\u001b[0m\u001b[0;34m]\u001b[0m\u001b[0;34m.\u001b[0m\u001b[0mcoef_\u001b[0m\u001b[0;34m\u001b[0m\u001b[0;34m\u001b[0m\u001b[0m\n\u001b[1;32m   1893\u001b[0m                     \u001b[0mgam\u001b[0m\u001b[0;34m.\u001b[0m\u001b[0mset_params\u001b[0m\u001b[0;34m(\u001b[0m\u001b[0mcoef_\u001b[0m\u001b[0;34m=\u001b[0m\u001b[0mcoef\u001b[0m\u001b[0;34m,\u001b[0m \u001b[0mforce\u001b[0m\u001b[0;34m=\u001b[0m\u001b[0;32mTrue\u001b[0m\u001b[0;34m,\u001b[0m \u001b[0mverbose\u001b[0m\u001b[0;34m=\u001b[0m\u001b[0;32mFalse\u001b[0m\u001b[0;34m)\u001b[0m\u001b[0;34m\u001b[0m\u001b[0;34m\u001b[0m\u001b[0m\n\u001b[0;32m-> 1894\u001b[0;31m                 \u001b[0mgam\u001b[0m\u001b[0;34m.\u001b[0m\u001b[0mfit\u001b[0m\u001b[0;34m(\u001b[0m\u001b[0mX\u001b[0m\u001b[0;34m,\u001b[0m \u001b[0my\u001b[0m\u001b[0;34m,\u001b[0m \u001b[0mweights\u001b[0m\u001b[0;34m)\u001b[0m\u001b[0;34m\u001b[0m\u001b[0;34m\u001b[0m\u001b[0m\n\u001b[0m\u001b[1;32m   1895\u001b[0m \u001b[0;34m\u001b[0m\u001b[0m\n\u001b[1;32m   1896\u001b[0m             \u001b[0;32mexcept\u001b[0m \u001b[0mValueError\u001b[0m \u001b[0;32mas\u001b[0m \u001b[0merror\u001b[0m\u001b[0;34m:\u001b[0m\u001b[0;34m\u001b[0m\u001b[0;34m\u001b[0m\u001b[0m\n",
      "\u001b[0;31mTypeError\u001b[0m: fit() takes 1 positional argument but 4 were given"
     ]
    }
   ],
   "source": [
    "dataset_1 = get_data('data_set_2')\n",
    "X = dataset_1[0]\n",
    "y = dataset_1[1]\n",
    "gam = SimGAMTest(X, y, n_splines=15)\n",
    "gam.fit()\n",
    "pdeps = gam.partial_dependences()"
   ]
  },
  {
   "cell_type": "code",
   "execution_count": 29,
   "id": "c269cc92-ff9b-472a-a465-8921ddee55b0",
   "metadata": {},
   "outputs": [],
   "source": [
    "def pdp_test(model, nrows, ncols):\n",
    "    fig, axs = plt.subplots(nrows=nrows, ncols=ncols)\n",
    "    titles = list(map(lambda x:f'V{x}', np.arange(1,len(X.columns)+1)))\n",
    "    num_vars = model.X.shape[1]\n",
    "    for i, ax in enumerate(axs):\n",
    "        ##XX = model.model.generate_X_grid(term=i) \n",
    "        sample = fill_vals(num_vars, i)\n",
    "        ax.plot(sample[:,i], model.model.partial_dependence(term=i, X=sample))\n",
    "        ax.plot(sample[:,i], model.model.partial_dependence(term=i, X=sample, width=.95)[1], c='r', ls='--')\n",
    "        ax.set_title(titles[i]);\n",
    "        ax.grid(True)\n",
    "        print(sample.shape)\n",
    "    plt.suptitle('Partial Dependence', size=16)\n",
    "    fig.tight_layout()\n",
    "    plt.show()\n",
    "    \n",
    "def pdp(model, nrows, ncols):\n",
    "    fig, axs = plt.subplots(nrows=nrows, ncols=ncols)\n",
    "    titles = list(map(lambda x:f'V{x}', np.arange(1,len(X.columns)+1)))\n",
    "    rand_data = []\n",
    "    for i, ax in enumerate(axs):\n",
    "        XX = model.model.generate_X_grid(term=i) \n",
    "        #sample = np.random.normal(0,1,100)\n",
    "        ax.plot(XX[:, i], model.model.partial_dependence(term=i, X=XX))\n",
    "        ax.plot(XX[:, i], model.model.partial_dependence(term=i, X=XX, width=.95)[1], c='r', ls='--')\n",
    "        ax.set_title(titles[i]);\n",
    "        ax.grid(True)\n",
    "        rand_data.append(XX)\n",
    "    plt.suptitle('Partial Dependence', size=16)\n",
    "    fig.tight_layout()\n",
    "    plt.show()\n",
    "    return rand_data"
   ]
  },
  {
   "cell_type": "code",
   "execution_count": 34,
   "id": "4a2c4d95-e0bd-4dc6-b131-e35f4de0d443",
   "metadata": {},
   "outputs": [
    {
     "name": "stderr",
     "output_type": "stream",
     "text": [
      "100% (20 of 20) |########################| Elapsed Time: 0:00:01 Time:  0:00:01\n"
     ]
    }
   ],
   "source": [
    "dataset_1 = get_data('data_set_4')\n",
    "X = dataset_1[0]\n",
    "y = dataset_1[1]\n",
    "gam = SimGAM(X, y)\n",
    "gam.train_lgam(n_splines=15)\n",
    "pdeps = gam.partial_dependences()"
   ]
  },
  {
   "cell_type": "code",
   "execution_count": 35,
   "id": "a5166cf4-53ef-4e62-9d00-512014dd75e6",
   "metadata": {},
   "outputs": [
    {
     "name": "stdout",
     "output_type": "stream",
     "text": [
      "Variable: 8\n",
      "0.020938185047402816\n",
      "0.02161456031202922\n",
      "0.04865789989053407\n",
      "0.03840837362928498\n",
      "0.044265337870872425\n",
      "0.032354213106383894\n",
      "0.026974273576666354\n",
      "0.029407392169320565\n",
      "0.0673305072713359\n",
      "0.046270127018094215\n"
     ]
    }
   ],
   "source": [
    "pd_variances = [np.var(pdeps[f'var{i}']) for i in range(0, gam.get_X().shape[1])]\n",
    "print(f'Variable: {np.argmax(pd_variances)}')\n",
    "for i in pd_variances:\n",
    "    print(i)"
   ]
  },
  {
   "cell_type": "code",
   "execution_count": null,
   "id": "dbe90ab1-759b-4fc7-b675-2998134aa461",
   "metadata": {},
   "outputs": [],
   "source": [
    "def main():\n",
    "    aic_dict = {}\n",
    "    for dataset in datasets[0:10]:\n",
    "        dst = get_data(dataset)\n",
    "        X = dst[0]\n",
    "        y = dst[1]\n",
    "        gam = SimGAM(X,y)\n",
    "        gam.train_lgam(n_splines=15)\n",
    "        aic = gam.calc_aic()\n",
    "        aic_dict[dataset] = aic\n",
    "    return aic_dict\n",
    "\n"
   ]
  },
  {
   "cell_type": "code",
   "execution_count": 10,
   "id": "f48c3417-47b5-4bd6-88d1-b846ca6252d3",
   "metadata": {},
   "outputs": [
    {
     "data": {
      "text/plain": [
       "{'data_set_1': 224.96677796285633,\n",
       " 'data_set_10': -203.52783008046083,\n",
       " 'data_set_100': -371.65823665439086,\n",
       " 'data_set_101': -210.23879580893157,\n",
       " 'data_set_102': 346.11310539521145,\n",
       " 'data_set_103': -51.97903947269032,\n",
       " 'data_set_104': 94.2971310102175,\n",
       " 'data_set_105': -364.64452260351766,\n",
       " 'data_set_107': -121.4978938683551,\n",
       " 'data_set_108': 400.60365465828426}"
      ]
     },
     "execution_count": 10,
     "metadata": {},
     "output_type": "execute_result"
    }
   ],
   "source": [
    "aics = main()"
>>>>>>> 7238b1dc14dcba6564a5a5d0308860b324d1d897
   ]
  },
  {
   "cell_type": "code",
   "execution_count": null,
   "id": "d331fa70-9c3b-4974-b5de-623e71ca6509",
   "metadata": {},
   "outputs": [],
   "source": []
  }
 ],
 "metadata": {
  "kernelspec": {
   "display_name": "Python 3",
   "language": "python",
   "name": "python3"
  },
  "language_info": {
   "codemirror_mode": {
    "name": "ipython",
    "version": 3
   },
   "file_extension": ".py",
   "mimetype": "text/x-python",
   "name": "python",
   "nbconvert_exporter": "python",
   "pygments_lexer": "ipython3",
   "version": "3.7.0"
  }
 },
 "nbformat": 4,
 "nbformat_minor": 5
}

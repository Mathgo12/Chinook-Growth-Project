{
 "cells": [
  {
   "cell_type": "code",
   "execution_count": 3,
   "id": "d331fa70-9c3b-4974-b5de-623e71ca6509",
   "metadata": {},
   "outputs": [],
   "source": [
    "import os\n",
    "import numpy as np\n",
    "import pandas as pd\n",
    "import matplotlib.pyplot as plt\n",
    "from pygam import LinearGAM, s, f, te, l\n",
    "from sklearn.metrics import mean_squared_error\n",
    "import math"
   ]
  },
  {
   "cell_type": "code",
   "execution_count": 16,
   "id": "3e506bef-1c2b-4d0f-97ab-0e9a03995ed8",
   "metadata": {},
   "outputs": [],
   "source": [
    "BASEPATH = 'C:/Users/Surya/SuryaMain/PythonProjects/Chinook-Growth-Project'\n",
    "#BASEPATH = '/Users/johnbuckner/github/Chinook-Growth-Project'\n",
    "SIMULATION_BASEPATH = os.path.join(BASEPATH, \"simulate_nonlinear_data\")\n",
    "datasets = sorted([name for name in os.listdir(SIMULATION_BASEPATH) if name[0:4] == 'data'])"
   ]
  },
  {
   "cell_type": "code",
   "execution_count": 13,
   "id": "a6629d54-d162-4ba1-8318-057bdef38377",
   "metadata": {},
   "outputs": [],
   "source": [
    "def get_data(fname):\n",
    "    path = os.path.join(SIMULATION_BASEPATH, fname)\n",
    "    if os.path.exists(path):\n",
    "        X = pd.read_csv(os.path.join(path, 'X.csv'))\n",
    "        X.drop(X.columns[0], axis=1, inplace=True)\n",
    "        y = pd.read_csv(os.path.join(path, 'y.csv'))\n",
    "        y.drop(y.columns[0], axis=1, inplace=True)\n",
    "        return [X, y]\n",
    "    else: \n",
    "        print(\"Dataset does not exist\")\n",
    "        return [0,0]     \n",
    "\n",
    "class SimGAM(LinearGAM):\n",
    "    def __init__(self, X, y, **kwargs):\n",
    "        super().__init__(**kwargs)\n",
    "        self.X = X\n",
    "        self.y = y\n",
    "        self.trained = False\n",
    "        \n",
    "    def get_X(self):\n",
    "        return self.X\n",
    "    \n",
    "    def get_Y(self):\n",
    "        return self.y\n",
    "    \n",
    "    @staticmethod \n",
    "    def fill_vals(num_vars, var_idx):\n",
    "        sample = np.zeros(shape=(100, num_vars))\n",
    "        rand_vals = sorted(np.random.normal(0,1,100))\n",
    "        for row_idx, row in enumerate(sample):\n",
    "            row[var_idx] = rand_vals[row_idx]\n",
    "        return sample    \n",
    "\n",
    "    def fit_gam(self):\n",
    "        lams = np.logspace(-5,5,20)*self.X.shape[1]\n",
    "        super().fit(self.X, self.y)\n",
    "        super().gridsearch(self.X, self.y, lam=lams)\n",
    "        self.trained = True\n",
    "        \n",
    "    def partial_dependences(self):\n",
    "        if self.trained == True:\n",
    "            pds = {}\n",
    "            num_vars = self.X.shape[1]\n",
    "            for var in range(num_vars):  # Number of variables\n",
    "                sample = SimGAM.fill_vals(num_vars, var)\n",
    "                pdep = super().partial_dependence(term=var, X=sample)\n",
    "                pds[f'var{var}'] = pdep\n",
    "            return pds\n",
    "        else: return None\n",
    "    \n",
    "    def calc_aic(self):\n",
    "        if self.trained == True:\n",
    "            num_params = len(super().coef_) + 1\n",
    "            aic = -2*super().loglikelihood(self.X,self.y) + 2*num_params\n",
    "            return aic\n",
    "        else: return None\n",
    "\n",
    "# Variable importance list creator function \n",
    "def vi_list(ds):\n",
    "    datset  = get_data(ds)\n",
    "    X = datset[0]\n",
    "    y = datset[1]\n",
    "    gam = SimGAM(X, y, n_splines=15)\n",
    "    gam.fit_gam()\n",
    "    pdeps = gam.partial_dependences()\n",
    "    pd_variances = np.array([np.var(pdeps[f'var{i}']) for i in range(0, gam.get_X().shape[1])]) \n",
    "    return pd_variances"
   ]
  },
  {
   "cell_type": "code",
   "execution_count": null,
   "id": "ceeaf633-ce25-4814-898b-863953aab614",
   "metadata": {},
   "outputs": [],
   "source": [
    "# Compute variable importance differences\n",
    "similarity_vals = {\n",
    "    0.25:[],\n",
    "    0.50:[],\n",
    "    0.75:[]\n",
    "}\n",
    "for i, ds in enumerate(datasets[0:30]):\n",
    "    vis_gam = vi_list(ds)\n",
    "    total_effect = float(pd.read_csv(os.path.join(SIMULATION_BASEPATH, ds, 'hyper_params.csv'))['total_effect'])\n",
    "    true_imps = np.array(pd.read_csv(os.path.join(SIMULATION_BASEPATH, ds, 'Imp.csv'))['Imp'])\n",
    "    similarity = np.inner(vis_gam, true_imps) / (np.linalg.norm(vis_gam) * np.linalg.norm(true_imps))\n",
    "    for key in similarity_vals.keys():\n",
    "        if total_effect == key:\n",
    "            similarity_vals[key].append(similarity)"
   ]
  },
  {
   "cell_type": "code",
   "execution_count": 53,
   "id": "3ab8012b-8b4b-4fcd-9a29-ef2de74c252e",
   "metadata": {},
   "outputs": [
    {
     "data": {
      "text/plain": [
       "{0.25: [0.5415341517732767,\n",
       "  0.3097859536486003,\n",
       "  0.6924274415665008,\n",
       "  0.8292823411798926,\n",
       "  0.7811224133553372,\n",
       "  0.7601321417403261,\n",
       "  0.5720897448617679,\n",
       "  0.48891759577179306,\n",
       "  0.6516074595316316,\n",
       "  0.7099106520078056,\n",
       "  0.3629196807426433],\n",
       " 0.5: [0.6505524891992887,\n",
       "  0.5329855450296421,\n",
       "  0.9202578292919023,\n",
       "  0.7021332585570689,\n",
       "  0.6399601453760382,\n",
       "  0.5829792810911298],\n",
       " 0.75: [0.9732201617909281,\n",
       "  0.7133666593347846,\n",
       "  0.9135022668833382,\n",
       "  0.7963644101994095,\n",
       "  0.8589707595337629,\n",
       "  0.8051022764652755,\n",
       "  0.69716157420764,\n",
       "  0.8282252441009536,\n",
       "  0.7214878715747028,\n",
       "  0.5548133700501869,\n",
       "  0.6889208488053932,\n",
       "  0.6060382081801682,\n",
       "  0.5240995552857726]}"
      ]
     },
     "execution_count": 53,
     "metadata": {},
     "output_type": "execute_result"
    }
   ],
   "source": [
    "similarity_vals"
   ]
  },
  {
   "cell_type": "code",
   "execution_count": 48,
   "id": "3ad218e7-eba6-4ea0-add8-7738bce0f793",
   "metadata": {},
   "outputs": [
    {
     "data": {
      "image/png": "[encoded data removed]",
      "text/plain": [
       "<Figure size 576x432 with 1 Axes>"
      ]
     },
     "metadata": {
      "needs_background": "light"
     },
     "output_type": "display_data"
    }
   ],
   "source": [
    "#Boxplot \n",
    "fig = plt.figure(figsize=(8,6))\n",
    "\n",
    "axes = fig.add_axes([0,0,1,1])\n",
    "axes.boxplot(similarity_vals, showfliers=True)\n",
    "axes.grid(True)\n",
    "axes.set_yticks(np.arange(0,1.05,0.05))\n",
    "axes.set_title('GAM VIs and True Imps Similarity Scores')\n",
    "plt.show()"
   ]
  },
  {
   "cell_type": "code",
   "execution_count": null,
   "id": "1c34a790-7612-476d-8658-5214b65ee1c7",
   "metadata": {},
   "outputs": [],
   "source": [
    "'''   \n",
    "def pdp(model, nrows, ncols):\n",
    "    fig, axs = plt.subplots(nrows=nrows, ncols=ncols)\n",
    "    titles = list(map(lambda x:f'V{x}', np.arange(1,len(X.columns)+1)))\n",
    "    rand_data = []\n",
    "    for i, ax in enumerate(axs):\n",
    "        XX = model.model.generate_X_grid(term=i) \n",
    "        #sample = np.random.normal(0,1,100)\n",
    "        ax.plot(XX[:, i], model.model.partial_dependence(term=i, X=XX))\n",
    "        ax.plot(XX[:, i], model.model.partial_dependence(term=i, X=XX, width=.95)[1], c='r', ls='--')\n",
    "        ax.set_title(titles[i]);\n",
    "        ax.grid(True)\n",
    "        rand_data.append(XX)\n",
    "    plt.suptitle('Partial Dependence', size=16)\n",
    "    fig.tight_layout()\n",
    "    plt.show()\n",
    "    return rand_data\n",
    "'''"
   ]
  },
  {
   "cell_type": "code",
   "execution_count": null,
   "id": "e078d0d2-2b4d-4d5f-b72f-84263da775da",
   "metadata": {},
   "outputs": [],
   "source": [
    "def pdp(model, var=0):\n",
    "    fig = plt.figure()\n",
    "    ax = fig.add_axes([0,0,1,1])\n",
    "    sample = SimGAM.fill_vals(model.get_X().shape[1], var)\n",
    "    pdep_vals = model.partial_dependences()[f'var{var}']\n",
    "    ax.plot(sample[:, var], pdep_vals, c='r', ls='--')\n",
    "    ax.set_title(f'Variable {var+1}: variance = {np.var(pdep_vals)}')\n",
    "    ax.set_yticks(np.arange(-1,1,0.2))\n",
    "    ax.grid(True)\n",
    "    plt.show()\n",
    "\n",
    "for i in range(10):\n",
    "    pdp(gam, i)"
   ]
  },
  {
   "cell_type": "code",
   "execution_count": null,
   "id": "f0a3d2f1-8922-4812-8237-5fb11028eb3b",
   "metadata": {},
   "outputs": [],
   "source": [
    "'''\n",
    "def main():\n",
    "    aic_dict = {}\n",
    "    for dataset in datasets[0:10]:\n",
    "        dst = get_data(dataset)\n",
    "        X = dst[0]\n",
    "        y = dst[1]\n",
    "        gam = SimGAM(X,y)\n",
    "        gam.train_lgam(n_splines=15)\n",
    "        aic = gam.calc_aic()\n",
    "        aic_dict[dataset] = aic\n",
    "    return aic_dict\n",
    "    \n",
    "aics = main()\n",
    "'''"
   ]
  },
  {
   "cell_type": "code",
   "execution_count": null,
   "id": "39dd617e-69c0-4314-a0c5-74e6f215c827",
   "metadata": {},
   "outputs": [],
   "source": []
  }
 ],
 "metadata": {
  "kernelspec": {
   "display_name": "Python 3 (ipykernel)",
   "language": "python",
   "name": "python3"
  },
  "language_info": {
   "codemirror_mode": {
    "name": "ipython",
    "version": 3
   },
   "file_extension": ".py",
   "mimetype": "text/x-python",
   "name": "python",
   "nbconvert_exporter": "python",
   "pygments_lexer": "ipython3",
   "version": "3.9.12"
  }
 },
 "nbformat": 4,
 "nbformat_minor": 5
}

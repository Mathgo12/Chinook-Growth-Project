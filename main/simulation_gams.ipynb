{
 "cells": [
  {
   "cell_type": "code",
   "execution_count": 2,
   "id": "19cc3f82-5da7-4383-8dc3-6e5e043ddd59",
   "metadata": {},
   "outputs": [],
   "source": [
    "import os\n",
    "import numpy as np\n",
    "import pandas as pd\n",
    "import matplotlib.pyplot as plt\n",
    "from pygam import LinearGAM, s, f "
   ]
  },
  {
   "cell_type": "code",
   "execution_count": 3,
   "id": "5eacaaa4-70f9-4e8a-a291-94da1b348a47",
   "metadata": {},
   "outputs": [
    {
     "data": {
      "text/plain": [
       "'\\nSteps: \\n1. Construct GAMs\\n2 Train GAMs on train data\\n3. Test GAMs on test data, adjust parameters\\n4. Partial Dependence Plots\\n5. Variable Importance \\n'"
      ]
     },
     "execution_count": 3,
     "metadata": {},
     "output_type": "execute_result"
    }
   ],
   "source": [
    "'''\n",
    "Steps: \n",
    "1. Construct GAMs\n",
    "2 Train GAMs on train data\n",
    "3. Test GAMs on test data, adjust parameters\n",
    "4. Partial Dependence Plots\n",
    "5. Variable Importance \n",
    "'''"
   ]
  },
  {
   "cell_type": "code",
   "execution_count": 8,
   "id": "dd84e166-c21c-4c78-bd59-5b4c84844fd1",
   "metadata": {},
   "outputs": [],
   "source": [
    "BASEPATH = 'C:\\SuryaMain\\Python Projects\\Chinook-Growth-Project'\n",
    "SIMULATION_BASEPATH = os.path.join(BASEPATH, \"simulate_nonlinear_data\")"
   ]
  },
  {
   "cell_type": "code",
   "execution_count": 9,
   "id": "4cdb3d16-6313-441b-8fa8-d5f1bf6ecbd9",
   "metadata": {},
   "outputs": [
    {
     "data": {
      "text/plain": [
       "True"
      ]
     },
     "execution_count": 9,
     "metadata": {},
     "output_type": "execute_result"
    }
   ],
   "source": [
    "os.path.exists(SIMULATION_BASEPATH)"
   ]
  },
  {
   "cell_type": "code",
   "execution_count": 21,
   "id": "0412f425-4736-4e60-8315-b835423c2e5a",
   "metadata": {},
   "outputs": [],
   "source": [
    "data_set_1 = os.path.join(SIMULATION_BASEPATH, \"data_set_1\")\n",
    "X_1 = pd.read_csv(os.path.join(data_set_1, \"X.csv\"))\n",
    "X_1.drop(X_1.columns[0], axis=1, inplace=True)\n",
    "y_1 = pd.read_csv(os.path.join(data_set_1, \"y.csv\"))\n",
    "y_1.drop(y_1.columns[0], axis=1, inplace=True)"
   ]
  },
  {
   "cell_type": "code",
   "execution_count": 23,
   "id": "0c0e10b9-4114-4c58-a175-93afd478fc00",
   "metadata": {},
   "outputs": [],
   "source": [
    "gam_1 = LinearGAM(n_splines = 25).fit(X_1, y_1)"
   ]
  },
  {
   "cell_type": "code",
   "execution_count": 27,
   "id": "c0b44fbb-58f2-4c4b-93da-a6039e719f7d",
   "metadata": {},
   "outputs": [
    {
     "name": "stderr",
     "output_type": "stream",
     "text": [
      "100% (11 of 11) |########################| Elapsed Time: 0:00:00 Time:  0:00:00\n"
     ]
    },
    {
     "data": {
      "text/plain": [
       "<Figure size 432x288 with 0 Axes>"
      ]
     },
     "metadata": {},
     "output_type": "display_data"
    },
    {
     "data": {
      "image/png": "[encoded data removed]",
      "text/plain": [
       "<Figure size 432x288 with 2 Axes>"
      ]
     },
     "metadata": {
      "needs_background": "light"
     },
     "output_type": "display_data"
    }
   ],
   "source": [
    "##PARTIAL DEPENDENCE PLOTS FOR EACH VARIABLE\n",
    "\n",
    "gam_1.gridsearch(X_1, y_1)\n",
    "## plotting\n",
    "plt.figure();\n",
    "fig, axs = plt.subplots(1,2);\n",
    "\n",
    "titles = [\"V1\", \"V2\"]\n",
    "for i, ax in enumerate(axs):\n",
    "    XX = gam_1.generate_X_grid(term=i)\n",
    "    ax.plot(XX[:, i], gam_1.partial_dependence(term=i, X=XX))\n",
    "    ax.plot(XX[:, i], gam_1.partial_dependence(term=i, X=XX, width=.95)[1], c='r', ls='--')\n",
    "    if i == 0:\n",
    "        ax.set_ylim(-30,30)\n",
    "    ax.set_title(titles[i]);\n",
    "    ax.grid()"
   ]
  },
  {
   "cell_type": "code",
   "execution_count": null,
   "id": "cf7db747-48da-499c-a1e1-2affc9e27d04",
   "metadata": {},
   "outputs": [],
   "source": []
  }
 ],
 "metadata": {
  "kernelspec": {
   "display_name": "Python 3",
   "language": "python",
   "name": "python3"
  },
  "language_info": {
   "codemirror_mode": {
    "name": "ipython",
    "version": 3
   },
   "file_extension": ".py",
   "mimetype": "text/x-python",
   "name": "python",
   "nbconvert_exporter": "python",
   "pygments_lexer": "ipython3",
   "version": "3.7.0"
  }
 },
 "nbformat": 4,
 "nbformat_minor": 5
}

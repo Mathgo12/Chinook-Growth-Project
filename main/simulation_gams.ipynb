{
 "cells": [
  {
   "cell_type": "code",
   "execution_count": 1,
   "id": "a6a0a3b1-9655-4de1-8bdb-a88be56ebd18",
   "metadata": {},
   "outputs": [],
   "source": [
    "import os\n",
    "import numpy as np\n",
    "import pandas as pd\n",
    "import matplotlib.pyplot as plt\n",
    "from pygam import LinearGAM, s, f, te, l\n",
    "from sklearn.metrics import mean_squared_error\n",
    "import math"
   ]
  },
  {
   "cell_type": "code",
   "execution_count": 65,
   "id": "383dac86-ddb6-4a7b-bba7-4a359f154a5e",
   "metadata": {},
   "outputs": [],
   "source": [
    "BASEPATH = 'C:\\SuryaMain\\Python Projects\\Chinook-Growth-Project'\n",
    "SIMULATION_BASEPATH = os.path.join(BASEPATH, \"simulate_nonlinear_data\")\n",
    "datasets = [name for name in os.listdir(SIMULATION_BASEPATH) if name[0:4] == 'data'] \n",
    "    \n",
    "def get_data(fname):\n",
    "    path = os.path.join(SIMULATION_BASEPATH, fname)\n",
    "    if os.path.exists(path):\n",
    "        X = pd.read_csv(os.path.join(path, 'X.csv'))\n",
    "        X.drop(X.columns[0], axis=1, inplace=True)\n",
    "        y = pd.read_csv(os.path.join(path, 'y.csv'))\n",
    "        y.drop(y.columns[0], axis=1, inplace=True)\n",
    "        return [X, y]\n",
    "    else: \n",
    "        print(\"Dataset does not exist\")\n",
    "        return [0,0]\n",
    "        \n",
    "class SimGAM:\n",
    "    def __init__(self, X, y):\n",
    "        self.X = X\n",
    "        self.y = y\n",
    "        self.model = None\n",
    "        \n",
    "    def get_X(self):\n",
    "        return self.X\n",
    "    \n",
    "    def get_Y(self):\n",
    "        return self.y\n",
    "        \n",
    "    def train_lgam(self, **kwargs):\n",
    "        gam = LinearGAM(**kwargs).fit(self.X, self.y)\n",
    "        lams = []\n",
    "        if 'lam' in kwargs.keys():\n",
    "            lams = kwargs.get('lam')\n",
    "        else:\n",
    "            lams = np.logspace(-5,5,20)*len(self.X.columns)\n",
    "        gam.gridsearch(self.X, self.y, lam=lams)\n",
    "        self.model = gam\n",
    "        \n",
    "    def partial_dependences(self):\n",
    "        pds = {}\n",
    "        num_vars = X.shape[1]\n",
    "        for var in range(num_vars):  # Number of variables\n",
    "            sample = fill_vals(num_vars, var)\n",
    "            pdep = self.model.partial_dependence(term=var, X=sample)\n",
    "            pds[f'var{var}'] = pdep\n",
    "        return pds\n",
    "    \n",
    "    def calc_aic(self):\n",
    "        if self.model is not None:\n",
    "            num_params = len(self.model.coef_) + 1\n",
    "            aic = -2*self.model.loglikelihood(self.X,self.y) + 2*num_params\n",
    "            return aic\n",
    "        else: \n",
    "            print(\"Model Has Not Been Trained\")\n",
    "            return 0.0\n",
    "\n",
    "def fill_vals(num_vars, var_idx):\n",
    "    sample = np.zeros(shape=(100, num_vars))\n",
    "    rand_vals = sorted(np.random.normal(0,1,100))\n",
    "    for row_idx, row in enumerate(sample):\n",
    "        row[var_idx] = rand_vals[row_idx]\n",
    "    return sample     "
   ]
  },
  {
   "cell_type": "code",
   "execution_count": 75,
   "id": "83f85498-cf69-444c-9bc7-85d0b9987983",
   "metadata": {},
   "outputs": [
    {
     "data": {
      "text/plain": [
       "(array([  1.,   0.,   0.,  11.,  30.,  80., 165., 299., 517., 644., 754.,\n",
       "        812., 650., 474., 289., 162.,  65.,  34.,  12.,   1.]),\n",
       " array([-4.29083487, -3.89936968, -3.50790448, -3.11643929, -2.72497409,\n",
       "        -2.3335089 , -1.9420437 , -1.55057851, -1.15911331, -0.76764812,\n",
       "        -0.37618292,  0.01528227,  0.40674747,  0.79821266,  1.18967786,\n",
       "         1.58114305,  1.97260825,  2.36407344,  2.75553863,  3.14700383,\n",
       "         3.53846902]),\n",
       " <BarContainer object of 20 artists>)"
      ]
     },
     "execution_count": 75,
     "metadata": {},
     "output_type": "execute_result"
    },
    {
     "data": {
      "image/png": "[encoded data removed]",
      "text/plain": [
       "<Figure size 432x288 with 1 Axes>"
      ]
     },
     "metadata": {
      "needs_background": "light"
     },
     "output_type": "display_data"
    }
   ],
   "source": [
    "samples = np.random.normal(0, 1, 5000)\n",
    "plt.hist(samples, bins=20)"
   ]
  },
  {
   "cell_type": "code",
   "execution_count": 90,
   "id": "c885ae92-b065-49f3-80e9-c1d650286998",
   "metadata": {},
   "outputs": [],
   "source": [
    "class SimGAMTest(LinearGAM):\n",
    "    def __init__(self, X, y, **kwargs):\n",
    "        super().__init__(**kwargs)\n",
    "        self.X = X\n",
    "        self.y = y\n",
    "        self.trained = False\n",
    "        \n",
    "    def get_X(self):\n",
    "        return self.X\n",
    "    \n",
    "    def get_Y(self):\n",
    "        return self.y\n",
    "        \n",
    "    def fit(self):\n",
    "        lams = np.logspace(-5,5,20)*self.X.shape[1]\n",
    "        super().fit(self.X, self.y)\n",
    "        super().gridsearch(self.X, self.y, lam=lams)\n",
    "        self.trained = True\n",
    "        \n",
    "    def partial_dependences(self):\n",
    "        pds = {}\n",
    "        num_vars = X.shape[1]\n",
    "        for var in range(num_vars):  # Number of variables\n",
    "            sample = fill_vals(num_vars, var)\n",
    "            pdep = super().partial_dependence(term=var, X=sample)\n",
    "            pds[f'var{var}'] = pdep\n",
    "        return pds\n",
    "    \n",
    "    def calc_aic(self):\n",
    "        if self.trained == True:\n",
    "            num_params = len(super().coef_) + 1\n",
    "            aic = -2*super().loglikelihood(self.X,self.y) + 2*num_params\n",
    "            return aic\n",
    "        else: \n",
    "            print(\"Model Has Not Been Trained\")"
   ]
  },
  {
   "cell_type": "code",
   "execution_count": 91,
   "id": "813504a5-6682-4202-b487-78dba4190c34",
   "metadata": {},
   "outputs": [
    {
     "name": "stderr",
     "output_type": "stream",
     "text": [
      "  0% (0 of 20) |                         | Elapsed Time: 0:00:00 ETA:  --:--:--"
     ]
    },
    {
     "ename": "TypeError",
     "evalue": "fit() takes 1 positional argument but 4 were given",
     "output_type": "error",
     "traceback": [
      "\u001b[1;31m---------------------------------------------------------------------------\u001b[0m",
      "\u001b[1;31mTypeError\u001b[0m                                 Traceback (most recent call last)",
      "\u001b[1;32m<ipython-input-91-a030d2dc542f>\u001b[0m in \u001b[0;36m<module>\u001b[1;34m\u001b[0m\n\u001b[0;32m      3\u001b[0m \u001b[0my\u001b[0m \u001b[1;33m=\u001b[0m \u001b[0mdataset_1\u001b[0m\u001b[1;33m[\u001b[0m\u001b[1;36m1\u001b[0m\u001b[1;33m]\u001b[0m\u001b[1;33m\u001b[0m\u001b[0m\n\u001b[0;32m      4\u001b[0m \u001b[0mgam\u001b[0m \u001b[1;33m=\u001b[0m \u001b[0mSimGAMTest\u001b[0m\u001b[1;33m(\u001b[0m\u001b[0mX\u001b[0m\u001b[1;33m,\u001b[0m \u001b[0my\u001b[0m\u001b[1;33m,\u001b[0m \u001b[0mn_splines\u001b[0m\u001b[1;33m=\u001b[0m\u001b[1;36m15\u001b[0m\u001b[1;33m)\u001b[0m\u001b[1;33m\u001b[0m\u001b[0m\n\u001b[1;32m----> 5\u001b[1;33m \u001b[0mgam\u001b[0m\u001b[1;33m.\u001b[0m\u001b[0mfit\u001b[0m\u001b[1;33m(\u001b[0m\u001b[1;33m)\u001b[0m\u001b[1;33m\u001b[0m\u001b[0m\n\u001b[0m\u001b[0;32m      6\u001b[0m \u001b[0mpdeps\u001b[0m \u001b[1;33m=\u001b[0m \u001b[0mgam\u001b[0m\u001b[1;33m.\u001b[0m\u001b[0mpartial_dependences\u001b[0m\u001b[1;33m(\u001b[0m\u001b[1;33m)\u001b[0m\u001b[1;33m\u001b[0m\u001b[0m\n",
      "\u001b[1;32m<ipython-input-90-26364351adef>\u001b[0m in \u001b[0;36mfit\u001b[1;34m(self)\u001b[0m\n\u001b[0;32m     15\u001b[0m         \u001b[0mlams\u001b[0m \u001b[1;33m=\u001b[0m \u001b[0mnp\u001b[0m\u001b[1;33m.\u001b[0m\u001b[0mlogspace\u001b[0m\u001b[1;33m(\u001b[0m\u001b[1;33m-\u001b[0m\u001b[1;36m5\u001b[0m\u001b[1;33m,\u001b[0m\u001b[1;36m5\u001b[0m\u001b[1;33m,\u001b[0m\u001b[1;36m20\u001b[0m\u001b[1;33m)\u001b[0m\u001b[1;33m*\u001b[0m\u001b[0mself\u001b[0m\u001b[1;33m.\u001b[0m\u001b[0mX\u001b[0m\u001b[1;33m.\u001b[0m\u001b[0mshape\u001b[0m\u001b[1;33m[\u001b[0m\u001b[1;36m1\u001b[0m\u001b[1;33m]\u001b[0m\u001b[1;33m\u001b[0m\u001b[0m\n\u001b[0;32m     16\u001b[0m         \u001b[0msuper\u001b[0m\u001b[1;33m(\u001b[0m\u001b[1;33m)\u001b[0m\u001b[1;33m.\u001b[0m\u001b[0mfit\u001b[0m\u001b[1;33m(\u001b[0m\u001b[0mself\u001b[0m\u001b[1;33m.\u001b[0m\u001b[0mX\u001b[0m\u001b[1;33m,\u001b[0m \u001b[0mself\u001b[0m\u001b[1;33m.\u001b[0m\u001b[0my\u001b[0m\u001b[1;33m)\u001b[0m\u001b[1;33m\u001b[0m\u001b[0m\n\u001b[1;32m---> 17\u001b[1;33m         \u001b[0msuper\u001b[0m\u001b[1;33m(\u001b[0m\u001b[1;33m)\u001b[0m\u001b[1;33m.\u001b[0m\u001b[0mgridsearch\u001b[0m\u001b[1;33m(\u001b[0m\u001b[0mself\u001b[0m\u001b[1;33m.\u001b[0m\u001b[0mget_X\u001b[0m\u001b[1;33m(\u001b[0m\u001b[1;33m)\u001b[0m\u001b[1;33m,\u001b[0m \u001b[0mself\u001b[0m\u001b[1;33m.\u001b[0m\u001b[0mget_Y\u001b[0m\u001b[1;33m(\u001b[0m\u001b[1;33m)\u001b[0m\u001b[1;33m,\u001b[0m \u001b[0mlam\u001b[0m\u001b[1;33m=\u001b[0m\u001b[0mlams\u001b[0m\u001b[1;33m)\u001b[0m\u001b[1;33m\u001b[0m\u001b[0m\n\u001b[0m\u001b[0;32m     18\u001b[0m         \u001b[0mself\u001b[0m\u001b[1;33m.\u001b[0m\u001b[0mtrained\u001b[0m \u001b[1;33m=\u001b[0m \u001b[1;32mTrue\u001b[0m\u001b[1;33m\u001b[0m\u001b[0m\n\u001b[0;32m     19\u001b[0m \u001b[1;33m\u001b[0m\u001b[0m\n",
      "\u001b[1;32mc:\\python\\lib\\site-packages\\pygam\\pygam.py\u001b[0m in \u001b[0;36mgridsearch\u001b[1;34m(self, X, y, weights, return_scores, keep_best, objective, progress, **param_grids)\u001b[0m\n\u001b[0;32m   1892\u001b[0m                     \u001b[0mcoef\u001b[0m \u001b[1;33m=\u001b[0m \u001b[0mmodels\u001b[0m\u001b[1;33m[\u001b[0m\u001b[1;33m-\u001b[0m\u001b[1;36m1\u001b[0m\u001b[1;33m]\u001b[0m\u001b[1;33m.\u001b[0m\u001b[0mcoef_\u001b[0m\u001b[1;33m\u001b[0m\u001b[0m\n\u001b[0;32m   1893\u001b[0m                     \u001b[0mgam\u001b[0m\u001b[1;33m.\u001b[0m\u001b[0mset_params\u001b[0m\u001b[1;33m(\u001b[0m\u001b[0mcoef_\u001b[0m\u001b[1;33m=\u001b[0m\u001b[0mcoef\u001b[0m\u001b[1;33m,\u001b[0m \u001b[0mforce\u001b[0m\u001b[1;33m=\u001b[0m\u001b[1;32mTrue\u001b[0m\u001b[1;33m,\u001b[0m \u001b[0mverbose\u001b[0m\u001b[1;33m=\u001b[0m\u001b[1;32mFalse\u001b[0m\u001b[1;33m)\u001b[0m\u001b[1;33m\u001b[0m\u001b[0m\n\u001b[1;32m-> 1894\u001b[1;33m                 \u001b[0mgam\u001b[0m\u001b[1;33m.\u001b[0m\u001b[0mfit\u001b[0m\u001b[1;33m(\u001b[0m\u001b[0mX\u001b[0m\u001b[1;33m,\u001b[0m \u001b[0my\u001b[0m\u001b[1;33m,\u001b[0m \u001b[0mweights\u001b[0m\u001b[1;33m)\u001b[0m\u001b[1;33m\u001b[0m\u001b[0m\n\u001b[0m\u001b[0;32m   1895\u001b[0m \u001b[1;33m\u001b[0m\u001b[0m\n\u001b[0;32m   1896\u001b[0m             \u001b[1;32mexcept\u001b[0m \u001b[0mValueError\u001b[0m \u001b[1;32mas\u001b[0m \u001b[0merror\u001b[0m\u001b[1;33m:\u001b[0m\u001b[1;33m\u001b[0m\u001b[0m\n",
      "\u001b[1;31mTypeError\u001b[0m: fit() takes 1 positional argument but 4 were given"
     ]
    }
   ],
   "source": [
    "dataset_1 = get_data('data_set_2')\n",
    "X = dataset_1[0]\n",
    "y = dataset_1[1]\n",
    "gam = SimGAMTest(X, y, n_splines=15)\n",
    "gam.fit()\n",
    "pdeps = gam.partial_dependences()"
   ]
  },
  {
   "cell_type": "code",
   "execution_count": null,
   "id": "c269cc92-ff9b-472a-a465-8921ddee55b0",
   "metadata": {},
   "outputs": [],
   "source": [
    "def pdp_test(model, nrows, ncols):\n",
    "    fig, axs = plt.subplots(nrows=nrows, ncols=ncols)\n",
    "    titles = list(map(lambda x:f'V{x}', np.arange(1,len(X.columns)+1)))\n",
    "    num_vars = model.X.shape[1]\n",
    "    for i, ax in enumerate(axs):\n",
    "        ##XX = model.model.generate_X_grid(term=i) \n",
    "        sample = fill_vals(num_vars, i)\n",
    "        ax.plot(sample[:,i], model.model.partial_dependence(term=i, X=sample))\n",
    "        ax.plot(sample[:,i], model.model.partial_dependence(term=i, X=sample, width=.95)[1], c='r', ls='--')\n",
    "        ax.set_title(titles[i]);\n",
    "        ax.grid(True)\n",
    "        print(sample.shape)\n",
    "    plt.suptitle('Partial Dependence', size=16)\n",
    "    fig.tight_layout()\n",
    "    plt.show()\n",
    "    \n",
    "def pdp(model, nrows, ncols):\n",
    "    fig, axs = plt.subplots(nrows=nrows, ncols=ncols)\n",
    "    titles = list(map(lambda x:f'V{x}', np.arange(1,len(X.columns)+1)))\n",
    "    rand_data = []\n",
    "    for i, ax in enumerate(axs):\n",
    "        XX = model.model.generate_X_grid(term=i) \n",
    "        #sample = np.random.normal(0,1,100)\n",
    "        ax.plot(XX[:, i], model.model.partial_dependence(term=i, X=XX))\n",
    "        ax.plot(XX[:, i], model.model.partial_dependence(term=i, X=XX, width=.95)[1], c='r', ls='--')\n",
    "        ax.set_title(titles[i]);\n",
    "        ax.grid(True)\n",
    "        rand_data.append(XX)\n",
    "    plt.suptitle('Partial Dependence', size=16)\n",
    "    fig.tight_layout()\n",
    "    plt.show()\n",
    "    return rand_data\n"
   ]
  },
  {
   "cell_type": "code",
   "execution_count": 66,
   "id": "4a2c4d95-e0bd-4dc6-b131-e35f4de0d443",
   "metadata": {},
   "outputs": [
    {
     "name": "stderr",
     "output_type": "stream",
     "text": [
      "100% (20 of 20) |########################| Elapsed Time: 0:00:03 Time:  0:00:03\n"
     ]
    }
   ],
   "source": [
    "dataset_1 = get_data('data_set_2')\n",
    "X = dataset_1[0]\n",
    "y = dataset_1[1]\n",
    "gam = SimGAM(X, y)\n",
    "gam.train_lgam(n_splines=15)\n",
    "pdeps = gam.partial_dependences()"
   ]
  },
  {
   "cell_type": "code",
   "execution_count": null,
   "id": "a5166cf4-53ef-4e62-9d00-512014dd75e6",
   "metadata": {},
   "outputs": [],
   "source": [
    "pd_variances = [np.var(pdeps[f'var{i}']) for i in range(0, gam.get_X().shape[1])]\n",
    "print(f'Variable: {np.argmax(pd_variances)}')\n",
    "for i in pd_variances:\n",
    "    print(i)"
   ]
  },
  {
   "cell_type": "code",
   "execution_count": null,
   "id": "dbe90ab1-759b-4fc7-b675-2998134aa461",
   "metadata": {},
   "outputs": [],
   "source": [
    "def main():\n",
    "    aic_dict = {}\n",
    "    for dataset in datasets[0:10]:\n",
    "        dst = get_data(dataset)\n",
    "        X = dst[0]\n",
    "        y = dst[1]\n",
    "        gam = SimGAM(X,y)\n",
    "        gam.train_lgam(n_splines=15)\n",
    "        aic = gam.calc_aic()\n",
    "        aic_dict[dataset] = aic\n",
    "    return aic_dict\n",
    "\n"
   ]
  },
  {
   "cell_type": "code",
   "execution_count": 10,
   "id": "f48c3417-47b5-4bd6-88d1-b846ca6252d3",
   "metadata": {},
   "outputs": [
    {
     "data": {
      "text/plain": [
       "{'data_set_1': 224.96677796285633,\n",
       " 'data_set_10': -203.52783008046083,\n",
       " 'data_set_100': -371.65823665439086,\n",
       " 'data_set_101': -210.23879580893157,\n",
       " 'data_set_102': 346.11310539521145,\n",
       " 'data_set_103': -51.97903947269032,\n",
       " 'data_set_104': 94.2971310102175,\n",
       " 'data_set_105': -364.64452260351766,\n",
       " 'data_set_107': -121.4978938683551,\n",
       " 'data_set_108': 400.60365465828426}"
      ]
     },
     "execution_count": 10,
     "metadata": {},
     "output_type": "execute_result"
    }
   ],
   "source": [
    "aics = main()"
   ]
  },
  {
   "cell_type": "code",
   "execution_count": null,
   "id": "d331fa70-9c3b-4974-b5de-623e71ca6509",
   "metadata": {},
   "outputs": [],
   "source": []
  }
 ],
 "metadata": {
  "kernelspec": {
   "display_name": "Python 3",
   "language": "python",
   "name": "python3"
  },
  "language_info": {
   "codemirror_mode": {
    "name": "ipython",
    "version": 3
   },
   "file_extension": ".py",
   "mimetype": "text/x-python",
   "name": "python",
   "nbconvert_exporter": "python",
   "pygments_lexer": "ipython3",
   "version": "3.8.2"
  }
 },
 "nbformat": 4,
 "nbformat_minor": 5
}

{
 "cells": [
  {
   "cell_type": "code",
   "execution_count": 1,
   "id": "9c8c45ea-600a-4029-9623-dff325a6485c",
   "metadata": {},
   "outputs": [],
   "source": [
    "import sys\n",
    "sys.path.append(\"..\")"
   ]
  },
  {
   "cell_type": "code",
   "execution_count": 2,
   "id": "83ad89e4-54a4-4938-8369-2ef235333d34",
   "metadata": {},
   "outputs": [],
   "source": [
    "import pandas as pd\n",
    "import os\n",
    "import numpy as np\n",
    "from sklearn.preprocessing import StandardScaler, LabelEncoder, OneHotEncoder\n",
    "from sklearn.model_selection import train_test_split\n",
    "from sklearn.compose import ColumnTransformer\n",
    "from sklearn.model_selection import GridSearchCV\n",
    "from sklearn.metrics import r2_score\n",
    "\n",
    "from sklearn.ensemble import RandomForestRegressor\n",
    "from sklearn.base import RegressorMixin, BaseEstimator\n",
    "from sklearn.inspection import partial_dependence\n",
    "from IncrementsRegression import model"
   ]
  },
  {
   "cell_type": "code",
   "execution_count": 3,
   "id": "25ad5a14-8de6-4264-a271-ab4585740874",
   "metadata": {},
   "outputs": [],
   "source": [
    "from matplotlib.backends.backend_pdf import PdfPages\n",
    "import matplotlib.pyplot as plt\n",
    "%matplotlib inline"
   ]
  },
  {
   "cell_type": "code",
   "execution_count": 4,
   "id": "2312c6c0-51c7-4be2-a4f9-f506201ca661",
   "metadata": {},
   "outputs": [],
   "source": [
    "BASEPATH = 'C:\\SuryaMain\\Python Projects\\ChinookUL\\ChinookGrowthProject'\n",
    "SIMULATION_BASEPATH = os.path.join(BASEPATH, \"simulate_nonlinear_data\")"
   ]
  },
  {
   "cell_type": "code",
   "execution_count": 5,
   "id": "9f520770",
   "metadata": {},
   "outputs": [],
   "source": [
    "class RFRegressor(BaseEstimator, RegressorMixin):\n",
    "    def __init__(self, params = None):\n",
    "        self.hparams = params\n",
    "        self.model = RandomForestRegressor(**self.hparams)\n",
    "        self.rsquared = None\n",
    "        self.istrained = False\n",
    "        self.feature_importances_ = None\n",
    "\n",
    "    def fit(self, X_train, y_train):\n",
    "        self.model.fit(X_train,y_train)\n",
    "        self.rsquared = self.model.score(X_train,y_train)\n",
    "        self.istrained = True\n",
    "        self.feature_importances_ = self.model.feature_importances_\n",
    "\n",
    "    def predict(self, X, y=None):\n",
    "        pred = self.model.predict(X)\n",
    "        if y is not None:\n",
    "            self.rsquared = r2_score(y, pred)\n",
    "        return pred\n",
    "    \n",
    "    def get_rsquared(self):\n",
    "        return self.rsquared;\n",
    "    \n",
    "    def get_istrained(self):\n",
    "        return self.istrained;"
   ]
  },
  {
   "cell_type": "code",
   "execution_count": 22,
   "id": "99d886e6-bc11-4759-97d6-01a1d1909f66",
   "metadata": {},
   "outputs": [],
   "source": [
    "def train_sim_model(params = {\"n_estimators\": 20, \"oob_score\":True, \"min_impurity_decrease\":0.1}, data_path = os.path.join(SIMULATION_BASEPATH, 'data_set_1')):\n",
    "    X = pd.read_csv(os.path.join(data_path, 'X.csv')).drop(['Unnamed: 0'], axis=1)\n",
    "    y = pd.read_csv(os.path.join(data_path, 'y.csv')).drop(['Unnamed: 0'], axis=1)\n",
    "\n",
    "    X_train, X_test, y_train, y_test = train_test_split(X,y,test_size=0.1, random_state=12)\n",
    "    y_train = np.array(y_train).ravel()\n",
    "    y_test = np.array(y_test).ravel()\n",
    "    rf_model = RFRegressor(params = params)\n",
    "    rf_model.fit(X_train,y_train.ravel())\n",
    "    r2_train = rf_model.rsquared\n",
    "    test_pred = rf_model.predict(X_test, y_test)\n",
    "    r2_test = rf_model.get_rsquared()\n",
    "    return [rf_model, (r2_train, r2_test)]\n",
    "\n",
    "def sim_dataframe(simulation_datapath = SIMULATION_BASEPATH):\n",
    "    features = []\n",
    "    r2_train_vals = []\n",
    "    r2_test_vals = []\n",
    "    total_effects = []\n",
    "    nonlinear_vals = []\n",
    "    interactions_vals = []\n",
    "    rhoX_vals = []\n",
    "    intX_vals = []\n",
    "    rhoU_vals = []\n",
    "    intU_vals = []\n",
    "    n = []\n",
    "    cos_sims = []\n",
    "    cos_sims_rand = []\n",
    "\n",
    "    for data_path in os.listdir(simulation_datapath):\n",
    "        if \"data_set_\" in data_path:\n",
    "            full_datapath = os.path.join(SIMULATION_BASEPATH,data_path)\n",
    "            rf_model, (r2_train, r2_test) = train_sim_model(data_path = full_datapath)\n",
    "            cos_sim, cos_sim_rand = compare_vi(rf_model, os.path.join(full_datapath, 'Imp.csv'))\n",
    "            \n",
    "            hyperparams = pd.read_csv(os.path.join(full_datapath, 'hyper_params.csv'))\n",
    "            features.append(hyperparams['m'][0])\n",
    "            r2_train_vals.append(r2_train)\n",
    "            r2_test_vals.append(r2_test)\n",
    "            total_effects.append(hyperparams['total_effect'][0])\n",
    "            nonlinear_vals.append(hyperparams['nonlinear'][0])\n",
    "            interactions_vals.append(hyperparams['interactions'][0])\n",
    "            rhoX_vals.append(hyperparams['rho_X'][0])\n",
    "            intX_vals.append(hyperparams['int_X'][0])\n",
    "            rhoU_vals.append(hyperparams['rho_U'][0])\n",
    "            intU_vals.append(hyperparams['int_U'][0])\n",
    "            n.append(hyperparams['n'][0])\n",
    "            cos_sims.append(cos_sim)\n",
    "            cos_sims_rand.append(cos_sim_rand)\n",
    "\n",
    "    df = pd.DataFrame({\n",
    "        'features': features,\n",
    "        'r2_train': r2_train_vals,\n",
    "        'r2_test': r2_test_vals,\n",
    "        'totals_effect': total_effects,\n",
    "        'nonlinear': nonlinear_vals,\n",
    "        'interactions': interactions_vals,\n",
    "        'rho_X': rhoX_vals,\n",
    "        'int_X': intX_vals,\n",
    "        'rho_U': rhoU_vals,\n",
    "        'int_U': intU_vals,\n",
    "        'N': n,\n",
    "        'cos_sim': cos_sims,\n",
    "        'cos_sim_rand':cos_sim_rand\n",
    "\n",
    "    })\n",
    "\n",
    "    return df\n",
    "\n",
    "def compare_vi(model, path):\n",
    "    imp = np.array(pd.read_csv(os.path.join(path))['Imp'])\n",
    "    imp_rand = np.array(pd.read_csv(os.path.join(path))['rand'])\n",
    "    imp_rf = model.feature_importances_\n",
    "    cos_sim = np.inner(imp, imp_rf) / (np.linalg.norm(imp_rf) * np.linalg.norm(imp))\n",
    "    cos_sim_rand =  np.inner(imp_rand, imp_rf) / (np.linalg.norm(imp_rf) * np.linalg.norm(imp_rand))\n",
    "    \n",
    "    return [cos_sim, cos_sim_rand]"
   ]
  },
  {
   "cell_type": "code",
   "execution_count": 23,
   "id": "f7c99b5e-9275-406b-9b19-d19b12a3e03c",
   "metadata": {},
   "outputs": [
    {
     "name": "stderr",
     "output_type": "stream",
     "text": [
      "c:\\python\\lib\\site-packages\\sklearn\\ensemble\\_forest.py:833: UserWarning: Some inputs do not have OOB scores. This probably means too few trees were used to compute any reliable oob estimates.\n",
      "  warn(\"Some inputs do not have OOB scores. \"\n"
     ]
    }
   ],
   "source": [
    "data_1_df = sim_dataframe()"
   ]
  },
  {
   "cell_type": "code",
   "execution_count": 24,
   "id": "3d52dc3c-a0cf-40b5-83f2-b9d493cd9d00",
   "metadata": {},
   "outputs": [
    {
     "data": {
      "text/html": [
       "<div>\n",
       "<style scoped>\n",
       "    .dataframe tbody tr th:only-of-type {\n",
       "        vertical-align: middle;\n",
       "    }\n",
       "\n",
       "    .dataframe tbody tr th {\n",
       "        vertical-align: top;\n",
       "    }\n",
       "\n",
       "    .dataframe thead th {\n",
       "        text-align: right;\n",
       "    }\n",
       "</style>\n",
       "<table border=\"1\" class=\"dataframe\">\n",
       "  <thead>\n",
       "    <tr style=\"text-align: right;\">\n",
       "      <th></th>\n",
       "      <th>features</th>\n",
       "      <th>r2_train</th>\n",
       "      <th>r2_test</th>\n",
       "      <th>totals_effect</th>\n",
       "      <th>nonlinear</th>\n",
       "      <th>interactions</th>\n",
       "      <th>rho_X</th>\n",
       "      <th>int_X</th>\n",
       "      <th>rho_U</th>\n",
       "      <th>int_U</th>\n",
       "      <th>N</th>\n",
       "      <th>cos_sim</th>\n",
       "      <th>cos_sim_rand</th>\n",
       "    </tr>\n",
       "  </thead>\n",
       "  <tbody>\n",
       "    <tr>\n",
       "      <th>0</th>\n",
       "      <td>2</td>\n",
       "      <td>0.772764</td>\n",
       "      <td>0.543067</td>\n",
       "      <td>0.75</td>\n",
       "      <td>1</td>\n",
       "      <td>0</td>\n",
       "      <td>0.5</td>\n",
       "      <td>1</td>\n",
       "      <td>0.5</td>\n",
       "      <td>2</td>\n",
       "      <td>30</td>\n",
       "      <td>0.972376</td>\n",
       "      <td>0.499569</td>\n",
       "    </tr>\n",
       "    <tr>\n",
       "      <th>1</th>\n",
       "      <td>5</td>\n",
       "      <td>0.658059</td>\n",
       "      <td>-0.330293</td>\n",
       "      <td>0.75</td>\n",
       "      <td>1</td>\n",
       "      <td>2</td>\n",
       "      <td>0.0</td>\n",
       "      <td>1</td>\n",
       "      <td>0.0</td>\n",
       "      <td>2</td>\n",
       "      <td>30</td>\n",
       "      <td>0.801962</td>\n",
       "      <td>0.499569</td>\n",
       "    </tr>\n",
       "    <tr>\n",
       "      <th>2</th>\n",
       "      <td>10</td>\n",
       "      <td>0.750563</td>\n",
       "      <td>0.400987</td>\n",
       "      <td>0.75</td>\n",
       "      <td>0</td>\n",
       "      <td>0</td>\n",
       "      <td>0.0</td>\n",
       "      <td>1</td>\n",
       "      <td>0.5</td>\n",
       "      <td>2</td>\n",
       "      <td>50</td>\n",
       "      <td>0.963290</td>\n",
       "      <td>0.499569</td>\n",
       "    </tr>\n",
       "    <tr>\n",
       "      <th>3</th>\n",
       "      <td>5</td>\n",
       "      <td>0.737007</td>\n",
       "      <td>-1.321249</td>\n",
       "      <td>0.75</td>\n",
       "      <td>0</td>\n",
       "      <td>2</td>\n",
       "      <td>0.5</td>\n",
       "      <td>1</td>\n",
       "      <td>0.5</td>\n",
       "      <td>2</td>\n",
       "      <td>30</td>\n",
       "      <td>0.902485</td>\n",
       "      <td>0.499569</td>\n",
       "    </tr>\n",
       "    <tr>\n",
       "      <th>4</th>\n",
       "      <td>10</td>\n",
       "      <td>0.854029</td>\n",
       "      <td>0.485665</td>\n",
       "      <td>0.75</td>\n",
       "      <td>0</td>\n",
       "      <td>2</td>\n",
       "      <td>0.5</td>\n",
       "      <td>1</td>\n",
       "      <td>0.5</td>\n",
       "      <td>2</td>\n",
       "      <td>30</td>\n",
       "      <td>0.227061</td>\n",
       "      <td>0.499569</td>\n",
       "    </tr>\n",
       "    <tr>\n",
       "      <th>...</th>\n",
       "      <td>...</td>\n",
       "      <td>...</td>\n",
       "      <td>...</td>\n",
       "      <td>...</td>\n",
       "      <td>...</td>\n",
       "      <td>...</td>\n",
       "      <td>...</td>\n",
       "      <td>...</td>\n",
       "      <td>...</td>\n",
       "      <td>...</td>\n",
       "      <td>...</td>\n",
       "      <td>...</td>\n",
       "      <td>...</td>\n",
       "    </tr>\n",
       "    <tr>\n",
       "      <th>95</th>\n",
       "      <td>10</td>\n",
       "      <td>0.845527</td>\n",
       "      <td>-2.459092</td>\n",
       "      <td>0.75</td>\n",
       "      <td>0</td>\n",
       "      <td>0</td>\n",
       "      <td>0.5</td>\n",
       "      <td>1</td>\n",
       "      <td>0.0</td>\n",
       "      <td>2</td>\n",
       "      <td>30</td>\n",
       "      <td>0.356330</td>\n",
       "      <td>0.499569</td>\n",
       "    </tr>\n",
       "    <tr>\n",
       "      <th>96</th>\n",
       "      <td>5</td>\n",
       "      <td>0.449056</td>\n",
       "      <td>0.147556</td>\n",
       "      <td>0.50</td>\n",
       "      <td>1</td>\n",
       "      <td>0</td>\n",
       "      <td>0.0</td>\n",
       "      <td>1</td>\n",
       "      <td>0.0</td>\n",
       "      <td>2</td>\n",
       "      <td>100</td>\n",
       "      <td>0.975201</td>\n",
       "      <td>0.499569</td>\n",
       "    </tr>\n",
       "    <tr>\n",
       "      <th>97</th>\n",
       "      <td>10</td>\n",
       "      <td>0.804445</td>\n",
       "      <td>0.895155</td>\n",
       "      <td>0.75</td>\n",
       "      <td>1</td>\n",
       "      <td>1</td>\n",
       "      <td>0.5</td>\n",
       "      <td>1</td>\n",
       "      <td>0.5</td>\n",
       "      <td>2</td>\n",
       "      <td>30</td>\n",
       "      <td>0.812084</td>\n",
       "      <td>0.499569</td>\n",
       "    </tr>\n",
       "    <tr>\n",
       "      <th>98</th>\n",
       "      <td>5</td>\n",
       "      <td>0.749730</td>\n",
       "      <td>0.200917</td>\n",
       "      <td>0.75</td>\n",
       "      <td>0</td>\n",
       "      <td>2</td>\n",
       "      <td>0.5</td>\n",
       "      <td>1</td>\n",
       "      <td>0.5</td>\n",
       "      <td>2</td>\n",
       "      <td>50</td>\n",
       "      <td>0.962276</td>\n",
       "      <td>0.499569</td>\n",
       "    </tr>\n",
       "    <tr>\n",
       "      <th>99</th>\n",
       "      <td>5</td>\n",
       "      <td>0.755520</td>\n",
       "      <td>0.730674</td>\n",
       "      <td>0.75</td>\n",
       "      <td>3</td>\n",
       "      <td>0</td>\n",
       "      <td>0.5</td>\n",
       "      <td>1</td>\n",
       "      <td>0.5</td>\n",
       "      <td>2</td>\n",
       "      <td>100</td>\n",
       "      <td>0.929987</td>\n",
       "      <td>0.499569</td>\n",
       "    </tr>\n",
       "  </tbody>\n",
       "</table>\n",
       "<p>100 rows × 13 columns</p>\n",
       "</div>"
      ],
      "text/plain": [
       "    features  r2_train   r2_test  totals_effect  nonlinear  interactions  \\\n",
       "0          2  0.772764  0.543067           0.75          1             0   \n",
       "1          5  0.658059 -0.330293           0.75          1             2   \n",
       "2         10  0.750563  0.400987           0.75          0             0   \n",
       "3          5  0.737007 -1.321249           0.75          0             2   \n",
       "4         10  0.854029  0.485665           0.75          0             2   \n",
       "..       ...       ...       ...            ...        ...           ...   \n",
       "95        10  0.845527 -2.459092           0.75          0             0   \n",
       "96         5  0.449056  0.147556           0.50          1             0   \n",
       "97        10  0.804445  0.895155           0.75          1             1   \n",
       "98         5  0.749730  0.200917           0.75          0             2   \n",
       "99         5  0.755520  0.730674           0.75          3             0   \n",
       "\n",
       "    rho_X  int_X  rho_U  int_U    N   cos_sim  cos_sim_rand  \n",
       "0     0.5      1    0.5      2   30  0.972376      0.499569  \n",
       "1     0.0      1    0.0      2   30  0.801962      0.499569  \n",
       "2     0.0      1    0.5      2   50  0.963290      0.499569  \n",
       "3     0.5      1    0.5      2   30  0.902485      0.499569  \n",
       "4     0.5      1    0.5      2   30  0.227061      0.499569  \n",
       "..    ...    ...    ...    ...  ...       ...           ...  \n",
       "95    0.5      1    0.0      2   30  0.356330      0.499569  \n",
       "96    0.0      1    0.0      2  100  0.975201      0.499569  \n",
       "97    0.5      1    0.5      2   30  0.812084      0.499569  \n",
       "98    0.5      1    0.5      2   50  0.962276      0.499569  \n",
       "99    0.5      1    0.5      2  100  0.929987      0.499569  \n",
       "\n",
       "[100 rows x 13 columns]"
      ]
     },
     "execution_count": 24,
     "metadata": {},
     "output_type": "execute_result"
    }
   ],
   "source": [
    "data_1_df"
   ]
  },
  {
   "cell_type": "code",
   "execution_count": null,
   "id": "ad33e9b0-481c-4518-bd4a-d4332c4bfa13",
   "metadata": {},
   "outputs": [],
   "source": []
  },
  {
   "cell_type": "markdown",
   "id": "417e32e5-a658-4632-83ce-3612483f0d6f",
   "metadata": {},
   "source": [
    "# R Squared Boxplots"
   ]
  },
  {
   "cell_type": "code",
   "execution_count": 25,
   "id": "b154f321-93a4-434a-b203-5fae8cac3d8d",
   "metadata": {},
   "outputs": [],
   "source": [
    "def fig_boxplot_r2differences(df, xvar, title='', show_outliers=False):\n",
    "    r2_differences_all = {}\n",
    "    stats_all = {}\n",
    "    for val in df[xvar].unique():\n",
    "        r2_differences = np.array(df.loc[df[xvar] == val]['r2_train'] - df.loc[df[xvar] == val]['r2_test'])\n",
    "        q1 = np.quantile(r2_differences, 0.25)\n",
    "        q3 = np.quantile(r2_differences, 0.75)\n",
    "        med = np.median(r2_differences)\n",
    "        upper_bound = q3 + (1.5*(q3-q1))\n",
    "        lower_bound = q1 - (1.5*(q3-q1))\n",
    "\n",
    "        r2_differences_all[f'{xvar}_{str(val)}'] = r2_differences\n",
    "        outliers = sorted(r2_differences[(r2_differences <= lower_bound) | (upper_bound <= r2_differences)])\n",
    "        stats_all[f'{xvar}_{str(val)}'] = {'outliers': outliers, 'median':med, 'IQR':q3-q1}\n",
    "\n",
    "    fig = plt.figure()\n",
    "    axes = fig.add_axes([0,0,1,1])\n",
    "    plt.boxplot(r2_differences_all.values(), showfliers=show_outliers)\n",
    "    k = len(df[xvar].unique())\n",
    "    plt.xticks([i for i in range(1,k+1)],sorted(list(df[xvar].unique())))\n",
    "    plt.grid()\n",
    "\n",
    "    plt.xlabel(title)\n",
    "    plt.ylabel(\"Train r^2 - Test r^2 (Decimal 0.0-1.0)\")\n",
    "    \n",
    "    return [fig, stats_all]\n"
   ]
  },
  {
   "cell_type": "code",
   "execution_count": 26,
   "id": "e9540277-1dfe-4c85-af21-b8ae3ea72032",
   "metadata": {},
   "outputs": [
    {
     "data": {
      "image/png": "[encoded data removed]",
      "text/plain": [
       "<Figure size 432x288 with 1 Axes>"
      ]
     },
     "metadata": {
      "needs_background": "light"
     },
     "output_type": "display_data"
    },
    {
     "data": {
      "image/png": "[encoded data removed]",
      "text/plain": [
       "<Figure size 432x288 with 1 Axes>"
      ]
     },
     "metadata": {
      "needs_background": "light"
     },
     "output_type": "display_data"
    }
   ],
   "source": [
    "fig_bxplt_features, stats_features= fig_boxplot_r2differences(data_1_df, 'features', title='Number of Features')\n",
    "fig_bxplt_nonlinear, stats_nonlinear = fig_boxplot_r2differences(data_1_df, 'nonlinear', title='Number of Nonlinear features')"
   ]
  },
  {
   "cell_type": "code",
   "execution_count": 27,
   "id": "107478a1-bd08-46a4-b686-850d9c6451c2",
   "metadata": {},
   "outputs": [
    {
     "data": {
      "image/png": "[encoded data removed]",
      "text/plain": [
       "<Figure size 432x288 with 1 Axes>"
      ]
     },
     "metadata": {
      "needs_background": "light"
     },
     "output_type": "display_data"
    },
    {
     "data": {
      "image/png": "[encoded data removed]",
      "text/plain": [
       "<Figure size 432x288 with 1 Axes>"
      ]
     },
     "metadata": {
      "needs_background": "light"
     },
     "output_type": "display_data"
    }
   ],
   "source": [
    "fig_bxplt_features, stats_features= fig_boxplot_r2differences(data_1_df, 'features', title='Number of Features', show_outliers=True)\n",
    "fig_bxplt_nonlinear, stats_nonlinear = fig_boxplot_r2differences(data_1_df, 'nonlinear', title='Number of Nonlinear features', show_outliers=True)"
   ]
  },
  {
   "cell_type": "code",
   "execution_count": 28,
   "id": "7edeae8e-05ca-41f0-aca5-f492232417d6",
   "metadata": {},
   "outputs": [
    {
     "data": {
      "image/png": "[encoded data removed]",
      "text/plain": [
       "<Figure size 432x288 with 1 Axes>"
      ]
     },
     "metadata": {
      "needs_background": "light"
     },
     "output_type": "display_data"
    }
   ],
   "source": [
    "fig_bxplt_n, stats_n = fig_boxplot_r2differences(data_1_df, 'N', title='Number of Years N', show_outliers=False)"
   ]
  },
  {
   "cell_type": "code",
   "execution_count": 29,
   "id": "3a3ad124-6290-4722-9b24-66b371b46ca3",
   "metadata": {},
   "outputs": [
    {
     "data": {
      "image/png": "[encoded data removed]",
      "text/plain": [
       "<Figure size 432x288 with 1 Axes>"
      ]
     },
     "metadata": {
      "needs_background": "light"
     },
     "output_type": "display_data"
    }
   ],
   "source": [
    "fig_bxplt_n, stats_n = fig_boxplot_r2differences(data_1_df, 'rho_U', title='Rho U', show_outliers=False)"
   ]
  },
  {
   "cell_type": "code",
   "execution_count": null,
   "id": "467e79c0-cce0-4207-8c3a-d5a35edb8d3f",
   "metadata": {},
   "outputs": [],
   "source": []
  },
  {
   "cell_type": "code",
   "execution_count": 30,
   "id": "bb8fed49-4992-495d-b065-9d999cebd301",
   "metadata": {},
   "outputs": [],
   "source": [
    "def fig_boxplot_totaleffect(df, xvar, title='', show_outliers=False):\n",
    "    differences_all = {}\n",
    "    stats_all = {}\n",
    "    for val in df[xvar].unique():\n",
    "        differences = np.array(df.loc[df[xvar] == val]['r2_train'] - df.loc[df[xvar] == val]['totals_effect'])\n",
    "        q1 = np.quantile(differences, 0.25)\n",
    "        q3 = np.quantile(differences, 0.75)\n",
    "        med = np.median(differences)\n",
    "        upper_bound = q3 + (1.5*(q3-q1))\n",
    "        lower_bound = q1 - (1.5*(q3-q1))\n",
    "\n",
    "        differences_all[f'{xvar}_{str(val)}'] = differences\n",
    "        outliers = sorted(differences[(differences <= lower_bound) | (upper_bound <= differences)])\n",
    "        stats_all[f'{xvar}_{str(val)}'] = {'outliers': outliers, 'median':med, 'IQR':q3-q1}\n",
    "\n",
    "    fig = plt.figure()\n",
    "    axes = fig.add_axes([0,0,1,1])\n",
    "    plt.boxplot(differences_all.values(), showfliers=show_outliers)\n",
    "    k = len(df[xvar].unique())\n",
    "    plt.xticks([i for i in range(1,k+1)],np.array(df[xvar].unique(), dtype=str))\n",
    "    plt.grid()\n",
    "\n",
    "    plt.xlabel(title)\n",
    "    plt.ylabel(\"Train r^2 - Total Effect (Decimal 0.0-1.0)\")\n",
    "    \n",
    "    return [fig, stats_all]\n",
    "\n"
   ]
  },
  {
   "cell_type": "code",
   "execution_count": 31,
   "id": "91e1c4f8-fe90-425f-b13a-d3e92df086c5",
   "metadata": {},
   "outputs": [
    {
     "data": {
      "image/png": "[encoded data removed]",
      "text/plain": [
       "<Figure size 432x288 with 1 Axes>"
      ]
     },
     "metadata": {
      "needs_background": "light"
     },
     "output_type": "display_data"
    }
   ],
   "source": [
    "fig_bxplt_totaleffect, stats_totaleffect= fig_boxplot_totaleffect(data_1_df, 'features', title='Number of Features', show_outliers=True)"
   ]
  },
  {
   "cell_type": "code",
   "execution_count": null,
   "id": "32f12460",
   "metadata": {
    "tags": []
   },
   "outputs": [],
   "source": [
    "# Test: saving matplotlib plots in pdfs\n",
    "def fig_barh(ylabels, xvalues, title=''):\n",
    "    # create a new figure\n",
    "    fig = plt.figure()\n",
    "\n",
    "    # plot to it\n",
    "    yvalues = 0.1 + np.arange(len(ylabels))\n",
    "    plt.barh(yvalues, xvalues, figure=fig)\n",
    "    yvalues += 0.4\n",
    "    plt.yticks(yvalues, ylabels, figure=fig)\n",
    "    if title:\n",
    "        plt.title(title, figure=fig)\n",
    "\n",
    "    # return it\n",
    "    return fig\n",
    "\n",
    "def write_pdf(fname, figures):\n",
    "    path = os.path.join(BASEPATH, 'main')\n",
    "    doc = PdfPages(os.path.join(path, fname))\n",
    "    for fig in figures:\n",
    "        fig.savefig(doc, format='pdf')\n",
    "    doc.close()\n",
    "\n",
    "a = fig_barh(['a','b','c'], [1, 2, 3], 'Test #1')\n",
    "b = fig_barh(['x','y','z'], [5, 3, 1], 'Test #2')\n",
    "write_pdf('test.pdf', [a, b])"
   ]
  },
  {
   "cell_type": "markdown",
   "id": "ebf77079-6cff-453a-bf9a-ffc551fffba9",
   "metadata": {},
   "source": [
    "# Variable Importance"
   ]
  },
  {
   "cell_type": "code",
   "execution_count": 32,
   "id": "5b4021ae-512c-40b2-b85a-6336f8278491",
   "metadata": {},
   "outputs": [],
   "source": [
    "def fig_boxplot_vi(df, show_outliers=False): #  boxplot for \n",
    "    results = []\n",
    "    stats_all = {}\n",
    "    \n",
    "    for var in ['cos_sim', 'cos_sim_rand']:\n",
    "        vals = np.array(df[var])\n",
    "        q1 = np.quantile(vals, 0.25)\n",
    "        q3 = np.quantile(vals, 0.75)\n",
    "        med = np.median(vals)\n",
    "        upper_bound = q3 + (1.5*(q3-q1))\n",
    "        lower_bound = q1 - (1.5*(q3-q1))\n",
    "\n",
    "        outliers = sorted(vals[(vals <= lower_bound) | (upper_bound <= vals)])\n",
    "        stats = {'outliers': outliers, 'median':med, 'IQR':q3-q1}\n",
    "        \n",
    "        results.append(vals)\n",
    "        stats_all[var] = stats\n",
    "    \n",
    "    fig = plt.figure()\n",
    "    axes = fig.add_axes([0,0,1,1])\n",
    "    plt.boxplot(results, showfliers=show_outliers)\n",
    "    plt.grid()\n",
    "    plt.xticks([1,2], [\"cos_sim\", \"cos_sim_rand\"])\n",
    "    plt.ylabel(\"Variable Imp. Measurement (-1.0 to 1.0)\")\n",
    "    \n",
    "    return [fig, stats_all]\n"
   ]
  },
  {
   "cell_type": "code",
   "execution_count": 33,
   "id": "17f6f7c7-c77b-4098-b22a-5574af957670",
   "metadata": {},
   "outputs": [
    {
     "data": {
      "image/png": "[encoded data removed]",
      "text/plain": [
       "<Figure size 432x288 with 1 Axes>"
      ]
     },
     "metadata": {
      "needs_background": "light"
     },
     "output_type": "display_data"
    }
   ],
   "source": [
    "fig_bxplt_vi, stats_vi= fig_boxplot_vi(data_1_df, show_outliers=True)"
   ]
  },
  {
   "cell_type": "code",
   "execution_count": 140,
   "id": "8d05df52-511c-435a-99f4-22700e62bbe3",
   "metadata": {},
   "outputs": [],
   "source": [
    "#data_1_df.to_csv('sim_results3.csv')"
   ]
  },
  {
   "cell_type": "code",
   "execution_count": null,
   "id": "bf147bd3-8fb3-42d4-b03b-ae23134f7d91",
   "metadata": {},
   "outputs": [],
   "source": [
    "# Variable Importance Baseline Comparison\n",
    "\n"
   ]
  }
 ],
 "metadata": {
  "kernelspec": {
   "display_name": "Python 3",
   "language": "python",
   "name": "python3"
  },
  "language_info": {
   "codemirror_mode": {
    "name": "ipython",
    "version": 3
   },
   "file_extension": ".py",
   "mimetype": "text/x-python",
   "name": "python",
   "nbconvert_exporter": "python",
   "pygments_lexer": "ipython3",
   "version": "3.7.0"
  }
 },
 "nbformat": 4,
 "nbformat_minor": 5
}

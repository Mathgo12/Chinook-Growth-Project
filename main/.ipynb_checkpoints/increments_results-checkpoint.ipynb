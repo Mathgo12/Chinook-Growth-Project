{
 "cells": [
  {
   "cell_type": "code",
   "execution_count": 2,
   "id": "91382c6c-0990-4f0d-bcd4-1b44a45ed5b7",
   "metadata": {},
   "outputs": [],
   "source": [
    "import sys\n",
    "sys.path.append(\"..\")\n",
    "from IncrementsRegression import all_increments"
   ]
  },
  {
   "cell_type": "code",
   "execution_count": 3,
   "id": "73c15f39-59cf-48aa-a91e-070757b6de3e",
   "metadata": {},
   "outputs": [],
   "source": [
    "def increments_correlations(datafolder_path, datafile_names):\n",
    "    for identifier in datafile_names:\n",
    "        full_data = all_increments.import_data(datafolder_path, identifier)\n",
    "        X_train, X_test, y_train, y_test = all_increments.data_preprocessing(full_data, ['stock'], ['year'])\n",
    "\n",
    "        random_forest, rsquared = all_increments.train_model(\n",
    "            {\n",
    "                \"n_estimators\":100,\n",
    "                \"oob_score\":True,\n",
    "                \"min_impurity_decrease\":0.1\n",
    "            },\n",
    "            X_train,\n",
    "            y_train,\n",
    "            epochs=10\n",
    "        )\n",
    "\n",
    "        print(f\"Dataset: {identifier}; Average R-Squared {rsquared}\")"
   ]
  },
  {
   "cell_type": "code",
   "execution_count": 4,
   "id": "c8383db5-66bf-49db-b6de-f62c259efe5a",
   "metadata": {},
   "outputs": [
    {
     "name": "stdout",
     "output_type": "stream",
     "text": [
      "Dataset: spring_age; Average R-Squared 0.10678830537117215\n",
      "Dataset: spring_age_2_3; Average R-Squared 0.31195996201152204\n",
      "Dataset: spring_age_3_4; Average R-Squared 0.2676816458463035\n",
      "Dataset: spring_age_4_5; Average R-Squared 0.28161325174301644\n",
      "Dataset: GOA_fall_age; Average R-Squared 0.0006487503616721014\n",
      "Dataset: GOA_fall_age_1_2; Average R-Squared 0.5650225473732946\n",
      "Dataset: GOA_fall_age_2_3; Average R-Squared 0.07030146820303582\n",
      "Dataset: GOA_fall_age_3_4; Average R-Squared 0.3324194315448956\n",
      "Dataset: GOA_fall_age_4_5; Average R-Squared 0.397763284996428\n",
      "Dataset: increments_NCC; Average R-Squared 0.008421612646077969\n",
      "Dataset: NCC_fall_age_1_2; Average R-Squared 0.591633629632439\n",
      "Dataset: NCC_fall_age_2_3; Average R-Squared 0.3044380807465326\n",
      "Dataset: NCC_fall_age_3_4; Average R-Squared 0.26512635597226664\n",
      "Dataset: NCC_fall_age_4_5; Average R-Squared 0.28507142808647246\n",
      "Dataset: fall_age; Average R-Squared -8.691171146235632e-06\n",
      "Dataset: fall_age_1_2; Average R-Squared 0.41546272947259116\n",
      "Dataset: fall_age_2_3; Average R-Squared 0.020154933403071906\n",
      "Dataset: fall_age_3_4; Average R-Squared 0.22518471568718262\n",
      "Dataset: fall_age_4_5; Average R-Squared 0.1409717289662568\n",
      "Dataset: 2_3; Average R-Squared 0.03567329711309081\n",
      "Dataset: 3_4; Average R-Squared 0.2042913124042874\n",
      "Dataset: 4_5; Average R-Squared 0.1207476719814399\n"
     ]
    }
   ],
   "source": [
    "    datafolder_path = \"..\\\\data\\\\\"\n",
    "    datafile_names = [\n",
    "        \"spring_age\",\n",
    "        \"spring_age_2_3\",\n",
    "        \"spring_age_3_4\",\n",
    "        \"spring_age_4_5\",\n",
    "        \"GOA_fall_age\",\n",
    "        \"GOA_fall_age_1_2\",\n",
    "        \"GOA_fall_age_2_3\",\n",
    "        \"GOA_fall_age_3_4\",\n",
    "        \"GOA_fall_age_4_5\",\n",
    "        \"increments_NCC\",\n",
    "        \"NCC_fall_age_1_2\",\n",
    "        \"NCC_fall_age_2_3\",\n",
    "        \"NCC_fall_age_3_4\",\n",
    "        \"NCC_fall_age_4_5\",\n",
    "        \"fall_age\",\n",
    "        \"fall_age_1_2\",\n",
    "        \"fall_age_2_3\",\n",
    "        \"fall_age_3_4\",\n",
    "        \"fall_age_4_5\",\n",
    "        \"2_3\",\n",
    "        \"3_4\",\n",
    "        \"4_5\"\n",
    "    ]\n",
    "\n",
    "    increments_correlations(datafolder_path, datafile_names)"
   ]
  },
  {
   "cell_type": "code",
   "execution_count": null,
   "id": "11ae4cd1-ae85-457d-8ea1-05babd5894b4",
   "metadata": {},
   "outputs": [],
   "source": []
  }
 ],
 "metadata": {
  "kernelspec": {
   "display_name": "Python 3",
   "language": "python",
   "name": "python3"
  },
  "language_info": {
   "codemirror_mode": {
    "name": "ipython",
    "version": 3
   },
   "file_extension": ".py",
   "mimetype": "text/x-python",
   "name": "python",
   "nbconvert_exporter": "python",
   "pygments_lexer": "ipython3",
   "version": "3.7.0"
  }
 },
 "nbformat": 4,
 "nbformat_minor": 5
}

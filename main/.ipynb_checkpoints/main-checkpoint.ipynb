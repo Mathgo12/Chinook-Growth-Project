{
 "cells": [
  {
   "cell_type": "markdown",
   "id": "886cc392-73a5-44c5-b0b4-1b81f90bf3a7",
   "metadata": {
    "tags": []
   },
   "source": [
    "# Experimental Executions"
   ]
  },
  {
   "cell_type": "code",
   "execution_count": 2,
   "id": "8155a694-404e-4018-9472-5a04dd1b5f84",
   "metadata": {},
   "outputs": [],
   "source": [
    "import pandas as pd\n",
    "import os\n",
    "import numpy as np\n",
    "import matplotlib.pyplot as plt\n",
    "from sklearn.preprocessing import StandardScaler, LabelEncoder, OneHotEncoder\n",
    "from sklearn.model_selection import train_test_split\n",
    "from sklearn.compose import ColumnTransformer\n",
    "from sklearn.model_selection import GridSearchCV\n",
    "from sklearn.metrics import r2_score\n",
    "\n",
    "from sklearn.ensemble import RandomForestRegressor\n",
    "from sklearn.base import RegressorMixin, BaseEstimator\n",
    "from sklearn.inspection import partial_dependence"
   ]
  },
  {
   "cell_type": "code",
   "execution_count": 4,
   "id": "b5b9ecc6-d73e-43b6-93a0-e2fdcac906cd",
   "metadata": {},
   "outputs": [],
   "source": [
    "from sklearn.datasets import load_boston"
   ]
  },
  {
   "cell_type": "code",
   "execution_count": 18,
   "id": "3e5be23b-1bc9-4219-b2b4-12b836870968",
   "metadata": {},
   "outputs": [],
   "source": [
    "class ConstantRegressor(BaseEstimator, RegressorMixin):\n",
    "    def __init__(self, c=None):\n",
    "        self.c = c\n",
    "    def fit(self, X, y):\n",
    "        if self.c is None:\n",
    "            self.const_ = y.mean()\n",
    "        else:\n",
    "            self.const_ = self.c\n",
    "        return self\n",
    "    def predict(self, X):\n",
    "        return np.array(X.shape[0]*[self.const_])\n",
    "    \n",
    "class RFRegressor(BaseEstimator, RegressorMixin):\n",
    "    def __init__(self, params):\n",
    "        self.hparams = params\n",
    "        self.rfr = RandomForestRegressor(**self.hparams)\n",
    "\n",
    "    def fit(self, X_train, y_train):\n",
    "        self.rfr.fit(X_train,y_train)\n",
    "        self.feature_importances_ = self.rfr.feature_importances_\n",
    "\n",
    "    def predict(self, X):\n",
    "        pred = self.rfr.predict(X)\n",
    "        return pred"
   ]
  },
  {
   "cell_type": "code",
   "execution_count": 8,
   "id": "5fe0d8e1-1849-4dc5-b9e4-577dc91cfbf4",
   "metadata": {},
   "outputs": [],
   "source": [
    "boston = load_boston()\n",
    "X = boston.data\n",
    "y = boston.target\n",
    "cr = ConstantRegressor(10.)\n",
    "cr.fit(X, y)\n",
    "pred = cr.predict(X)\n",
    "cr.score(X,y)"
   ]
  }
 ],
 "metadata": {
  "kernelspec": {
   "display_name": "Python 3 (ipykernel)",
   "language": "python",
   "name": "python3"
  },
  "language_info": {
   "codemirror_mode": {
    "name": "ipython",
    "version": 3
   },
   "file_extension": ".py",
   "mimetype": "text/x-python",
   "name": "python",
   "nbconvert_exporter": "python",
   "pygments_lexer": "ipython3",
   "version": "3.9.12"
  }
 },
 "nbformat": 4,
 "nbformat_minor": 5
}

{
 "cells": [
  {
   "cell_type": "code",
   "execution_count": 1,
   "id": "9c8c45ea-600a-4029-9623-dff325a6485c",
   "metadata": {},
   "outputs": [],
   "source": [
    "import sys\n",
    "sys.path.append(\"..\")"
   ]
  },
  {
   "cell_type": "code",
   "execution_count": 2,
   "id": "83ad89e4-54a4-4938-8369-2ef235333d34",
   "metadata": {},
   "outputs": [],
   "source": [
    "import pandas as pd\n",
    "import os\n",
    "import numpy as np\n",
    "from sklearn.preprocessing import StandardScaler, LabelEncoder, OneHotEncoder\n",
    "from sklearn.model_selection import train_test_split\n",
    "from sklearn.compose import ColumnTransformer\n",
    "from sklearn.model_selection import GridSearchCV\n",
    "from sklearn.metrics import r2_score\n",
    "\n",
    "from sklearn.ensemble import RandomForestRegressor\n",
    "from sklearn.base import RegressorMixin, BaseEstimator\n",
    "from sklearn.inspection import partial_dependence\n",
    "from IncrementsRegression import model"
   ]
  },
  {
   "cell_type": "code",
   "execution_count": 44,
   "id": "25ad5a14-8de6-4264-a271-ab4585740874",
   "metadata": {},
   "outputs": [],
   "source": [
    "from matplotlib.backends.backend_pdf import PdfPages\n",
    "import matplotlib.pyplot as plt\n",
    "%matplotlib inline"
   ]
  },
  {
   "cell_type": "code",
   "execution_count": 3,
   "id": "2312c6c0-51c7-4be2-a4f9-f506201ca661",
   "metadata": {},
   "outputs": [],
   "source": [
    "BASEPATH = 'C:/SuryaMain/Python Projects/ChinookUL/ChinookGrowthProject'\n",
    "SIMULATION_BASEPATH = os.path.join(BASEPATH, \"simulate_nonlinear_data\")"
   ]
  },
  {
   "cell_type": "code",
   "execution_count": 12,
   "id": "9f520770",
   "metadata": {},
   "outputs": [],
   "source": [
    "class RFRegressor(BaseEstimator, RegressorMixin):\n",
    "    def __init__(self, params = None):\n",
    "        self.hparams = params\n",
    "        self.model = RandomForestRegressor(**self.hparams)\n",
    "        self.rsquared = None\n",
    "        self.istrained = False\n",
    "\n",
    "    def fit(self, X_train, y_train):\n",
    "        self.model.fit(X_train,y_train)\n",
    "        self.rsquared = self.model.score(X_train,y_train)\n",
    "        self.istrained = True\n",
    "\n",
    "    def predict(self, X, y=None):\n",
    "        pred = self.model.predict(X)\n",
    "        if y is not None:\n",
    "            self.rsquared = r2_score(y, pred)\n",
    "        return pred\n",
    "    \n",
    "    def get_rsquared(self):\n",
    "        return self.rsquared;\n",
    "    \n",
    "    def get_istrained(self):\n",
    "        return self.istrained;"
   ]
  },
  {
   "cell_type": "code",
   "execution_count": 13,
   "id": "99d886e6-bc11-4759-97d6-01a1d1909f66",
   "metadata": {},
   "outputs": [],
   "source": [
    "def train_sim_model(params = {\"n_estimators\": 100, \"oob_score\":True, \"min_impurity_decrease\":0.1}, data_path = os.path.join(SIMULATION_BASEPATH, 'data_set_1')):\n",
    "    X = pd.read_csv(os.path.join(data_path, 'X.csv'))\n",
    "    y = pd.read_csv(os.path.join(data_path, 'y.csv'))\n",
    "\n",
    "    X_train, X_test, y_train, y_test = train_test_split(X,y,test_size=0.1, random_state=12)\n",
    "    rf_model = RFRegressor(params = params)\n",
    "    rf_model.fit(X_train,y_train)\n",
    "    r2_train = rf_model.rsquared\n",
    "    test_pred = rf_model.predict(X_test, y_test)\n",
    "    r2_test = rf_model.get_rsquared()\n",
    "    return [rf_model, (r2_train, r2_test)]\n",
    "\n",
    "def sim_dataframe(simulation_datapath = SIMULATION_BASEPATH):\n",
    "    features = []\n",
    "    r2_train_vals = []\n",
    "    r2_test_vals = []\n",
    "    total_effects = []\n",
    "    nonlinear_vals = []\n",
    "    interactions_vals = []\n",
    "    rhoX_vals = []\n",
    "    intX_vals = []\n",
    "    rhoU_vals = []\n",
    "    intU_vals = []\n",
    "\n",
    "    for data_path in os.listdir(simulation_datapath):\n",
    "        if \"data_set_\" in data_path:\n",
    "            full_datapath = os.path.join(SIMULATION_BASEPATH,data_path)\n",
    "            rf_model, (r2_train, r2_test) = train_sim_model(data_path = full_datapath)\n",
    "            hyperparams = pd.read_csv(os.path.join(full_datapath, 'hyper_params.csv'))\n",
    "\n",
    "            features.append(hyperparams['m'][0])\n",
    "            r2_train_vals.append(r2_train)\n",
    "            r2_test_vals.append(r2_test)\n",
    "            total_effects.append(hyperparams['total_effect'][0])\n",
    "            nonlinear_vals.append(hyperparams['nonlinear'][0])\n",
    "            interactions_vals.append(hyperparams['interactions'][0])\n",
    "            rhoX_vals.append(hyperparams['rho_X'][0])\n",
    "            intX_vals.append(hyperparams['int_X'][0])\n",
    "            rhoU_vals.append(hyperparams['rho_U'][0])\n",
    "            intU_vals.append(hyperparams['int_U'][0])\n",
    "\n",
    "    df = pd.DataFrame({\n",
    "        'features': features,\n",
    "        'r2_train': r2_train_vals,\n",
    "        'r2_test': r2_test_vals,\n",
    "        'totals_effect': total_effects,\n",
    "        'nonlinear': nonlinear_vals,\n",
    "        'interactions': interactions_vals,\n",
    "        'rho_X': rhoX_vals,\n",
    "        'int_X': intX_vals,\n",
    "        'rho_U': rhoU_vals,\n",
    "        'int_U': intU_vals\n",
    "\n",
    "    })\n",
    "\n",
    "    return df\n"
   ]
  },
  {
   "cell_type": "code",
   "execution_count": null,
   "id": "f7c99b5e-9275-406b-9b19-d19b12a3e03c",
   "metadata": {},
   "outputs": [],
   "source": [
    "data_1_df = sim_dataframe()"
   ]
  },
  {
   "cell_type": "code",
   "execution_count": 98,
   "id": "3c4b95f8-4391-4f1e-87f8-38e088e4d80f",
   "metadata": {},
   "outputs": [
    {
     "data": {
      "text/plain": [
       "array([1, 0, 3], dtype=int64)"
      ]
     },
     "execution_count": 98,
     "metadata": {},
     "output_type": "execute_result"
    }
   ],
   "source": [
    "data_1_df.nonlinear.unique()"
   ]
  },
  {
   "cell_type": "code",
   "execution_count": 149,
   "id": "b154f321-93a4-434a-b203-5fae8cac3d8d",
   "metadata": {},
   "outputs": [],
   "source": [
    "def fig_boxplot(df, xvar, title='', show_outliers=False):\n",
    "    r2_differences_all = {}\n",
    "    stats_all = {}\n",
    "    for val in df[xvar].unique():\n",
    "        r2_differences = np.array(data_1_df.loc[data_1_df[xvar] == val]['r2_train'] - data_1_df.loc[data_1_df[xvar] == val]['r2_test'])\n",
    "        q1 = np.quantile(r2_differences, 0.25)\n",
    "        q3 = np.quantile(r2_differences, 0.75)\n",
    "        med = np.median(r2_differences)\n",
    "        upper_bound = q3 + (1.5*(q3-q1))\n",
    "        lower_bound = q1 - (1.5*(q3-q1))\n",
    "\n",
    "        r2_differences_all[f'{xvar}_{str(val)}'] = r2_differences\n",
    "        outliers = sorted(r2_differences[(r2_differences <= lower_bound) | (upper_bound <= r2_differences)])\n",
    "        stats_all[f'{xvar}_{str(val)}'] = {'outliers': outliers, 'median':med, 'IQR':q3-q1}\n",
    "\n",
    "    fig = plt.figure()\n",
    "    axes = fig.add_axes([0,0,1,1])\n",
    "    plt.boxplot(r2_differences_all.values(), showfliers=show_outliers)\n",
    "    plt.xticks([1,2,3],np.array(df[xvar].unique(), dtype=str))\n",
    "    plt.grid()\n",
    "\n",
    "    plt.xlabel(title)\n",
    "    plt.ylabel(\"Train r^2 - Test r^2 (Decimal 0.0-1.0)\")\n",
    "    \n",
    "    return [fig, stats_all]\n"
   ]
  },
  {
   "cell_type": "code",
   "execution_count": 150,
   "id": "e9540277-1dfe-4c85-af21-b8ae3ea72032",
   "metadata": {},
   "outputs": [
    {
     "data": {
      "image/png": "[encoded data removed]",
      "text/plain": [
       "<Figure size 432x288 with 1 Axes>"
      ]
     },
     "metadata": {
      "needs_background": "light"
     },
     "output_type": "display_data"
    },
    {
     "data": {
      "image/png": "[encoded data removed]",
      "text/plain": [
       "<Figure size 432x288 with 1 Axes>"
      ]
     },
     "metadata": {
      "needs_background": "light"
     },
     "output_type": "display_data"
    }
   ],
   "source": [
    "fig_bxplt_features, stats_features= fig_boxplot(data_1_df, 'features', title='Number of Features')\n",
    "fig_bxplt_nonlinear, stats_nonlinear = fig_boxplot(data_1_df, 'nonlinear', title='Number of Nonlinear features')"
   ]
  },
  {
   "cell_type": "code",
   "execution_count": 20,
   "id": "32f12460",
   "metadata": {},
   "outputs": [],
   "source": [
    "# Test: saving matplotlib plots in pdfs\n",
    "def fig_barh(ylabels, xvalues, title=''):\n",
    "    # create a new figure\n",
    "    fig = plt.figure()\n",
    "\n",
    "    # plot to it\n",
    "    yvalues = 0.1 + np.arange(len(ylabels))\n",
    "    plt.barh(yvalues, xvalues, figure=fig)\n",
    "    yvalues += 0.4\n",
    "    plt.yticks(yvalues, ylabels, figure=fig)\n",
    "    if title:\n",
    "        plt.title(title, figure=fig)\n",
    "\n",
    "    # return it\n",
    "    return fig\n",
    "\n",
    "def write_pdf(fname, figures):\n",
    "    path = os.path.join(BASEPATH, 'main')\n",
    "    doc = PdfPages(os.path.join(path, fname))\n",
    "    for fig in figures:\n",
    "        fig.savefig(doc, format='pdf')\n",
    "    doc.close()\n",
    "\n",
    "a = fig_barh(['a','b','c'], [1, 2, 3], 'Test #1')\n",
    "b = fig_barh(['x','y','z'], [5, 3, 1], 'Test #2')\n",
    "write_pdf('test.pdf', [a, b])"
   ]
  },
  {
   "cell_type": "code",
   "execution_count": null,
   "id": "665bda9a-e297-4271-84f7-93ebe3cb7608",
   "metadata": {},
   "outputs": [],
   "source": []
  },
  {
   "cell_type": "code",
   "execution_count": null,
   "id": "5b4021ae-512c-40b2-b85a-6336f8278491",
   "metadata": {},
   "outputs": [],
   "source": []
  }
 ],
 "metadata": {
  "kernelspec": {
   "display_name": "Python 3",
   "language": "python",
   "name": "python3"
  },
  "language_info": {
   "codemirror_mode": {
    "name": "ipython",
    "version": 3
   },
   "file_extension": ".py",
   "mimetype": "text/x-python",
   "name": "python",
   "nbconvert_exporter": "python",
   "pygments_lexer": "ipython3",
   "version": "3.7.0"
  }
 },
 "nbformat": 4,
 "nbformat_minor": 5
}
